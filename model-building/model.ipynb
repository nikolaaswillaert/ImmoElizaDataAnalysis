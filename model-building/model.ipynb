{
 "cells": [
  {
   "cell_type": "code",
   "execution_count": 9,
   "metadata": {},
   "outputs": [],
   "source": [
    "import pandas as pd"
   ]
  },
  {
   "cell_type": "code",
   "execution_count": 13,
   "metadata": {},
   "outputs": [
    {
     "data": {
      "text/html": [
       "<div>\n",
       "<style scoped>\n",
       "    .dataframe tbody tr th:only-of-type {\n",
       "        vertical-align: middle;\n",
       "    }\n",
       "\n",
       "    .dataframe tbody tr th {\n",
       "        vertical-align: top;\n",
       "    }\n",
       "\n",
       "    .dataframe thead th {\n",
       "        text-align: right;\n",
       "    }\n",
       "</style>\n",
       "<table border=\"1\" class=\"dataframe\">\n",
       "  <thead>\n",
       "    <tr style=\"text-align: right;\">\n",
       "      <th></th>\n",
       "      <th>locality</th>\n",
       "      <th>property_type</th>\n",
       "      <th>property_subtype</th>\n",
       "      <th>price</th>\n",
       "      <th>number_rooms</th>\n",
       "      <th>living_area</th>\n",
       "      <th>kitchen</th>\n",
       "      <th>furnished</th>\n",
       "      <th>fireplace</th>\n",
       "      <th>terrace</th>\n",
       "      <th>...</th>\n",
       "      <th>garden</th>\n",
       "      <th>garden_area</th>\n",
       "      <th>surface_land</th>\n",
       "      <th>number_facades</th>\n",
       "      <th>swimming_pool</th>\n",
       "      <th>building_state</th>\n",
       "      <th>region</th>\n",
       "      <th>province</th>\n",
       "      <th>latitude</th>\n",
       "      <th>longitude</th>\n",
       "    </tr>\n",
       "  </thead>\n",
       "  <tbody>\n",
       "    <tr>\n",
       "      <th>0</th>\n",
       "      <td>Ham</td>\n",
       "      <td>HOUSE</td>\n",
       "      <td>HOUSE</td>\n",
       "      <td>399500.0</td>\n",
       "      <td>3.0</td>\n",
       "      <td>197.0</td>\n",
       "      <td>HYPER_EQUIPPED</td>\n",
       "      <td>0</td>\n",
       "      <td>0.0</td>\n",
       "      <td>0</td>\n",
       "      <td>...</td>\n",
       "      <td>0</td>\n",
       "      <td>0.0</td>\n",
       "      <td>461.0</td>\n",
       "      <td>3.0</td>\n",
       "      <td>0</td>\n",
       "      <td>AS_NEW</td>\n",
       "      <td>Flanders</td>\n",
       "      <td>Limburg</td>\n",
       "      <td>49.746322</td>\n",
       "      <td>3.073303</td>\n",
       "    </tr>\n",
       "    <tr>\n",
       "      <th>1</th>\n",
       "      <td>Ham</td>\n",
       "      <td>HOUSE</td>\n",
       "      <td>HOUSE</td>\n",
       "      <td>381000.0</td>\n",
       "      <td>3.0</td>\n",
       "      <td>197.0</td>\n",
       "      <td>HYPER_EQUIPPED</td>\n",
       "      <td>0</td>\n",
       "      <td>0.0</td>\n",
       "      <td>0</td>\n",
       "      <td>...</td>\n",
       "      <td>0</td>\n",
       "      <td>0.0</td>\n",
       "      <td>343.0</td>\n",
       "      <td>3.0</td>\n",
       "      <td>0</td>\n",
       "      <td>AS_NEW</td>\n",
       "      <td>Flanders</td>\n",
       "      <td>Limburg</td>\n",
       "      <td>49.746322</td>\n",
       "      <td>3.073303</td>\n",
       "    </tr>\n",
       "    <tr>\n",
       "      <th>2</th>\n",
       "      <td>Ham</td>\n",
       "      <td>HOUSE</td>\n",
       "      <td>HOUSE</td>\n",
       "      <td>393500.0</td>\n",
       "      <td>3.0</td>\n",
       "      <td>192.0</td>\n",
       "      <td>HYPER_EQUIPPED</td>\n",
       "      <td>0</td>\n",
       "      <td>0.0</td>\n",
       "      <td>0</td>\n",
       "      <td>...</td>\n",
       "      <td>0</td>\n",
       "      <td>0.0</td>\n",
       "      <td>392.0</td>\n",
       "      <td>3.0</td>\n",
       "      <td>0</td>\n",
       "      <td>AS_NEW</td>\n",
       "      <td>Flanders</td>\n",
       "      <td>Limburg</td>\n",
       "      <td>49.746322</td>\n",
       "      <td>3.073303</td>\n",
       "    </tr>\n",
       "  </tbody>\n",
       "</table>\n",
       "<p>3 rows × 21 columns</p>\n",
       "</div>"
      ],
      "text/plain": [
       "  locality property_type property_subtype     price  number_rooms  \\\n",
       "0      Ham         HOUSE            HOUSE  399500.0           3.0   \n",
       "1      Ham         HOUSE            HOUSE  381000.0           3.0   \n",
       "2      Ham         HOUSE            HOUSE  393500.0           3.0   \n",
       "\n",
       "   living_area         kitchen  furnished  fireplace  terrace  ...  garden  \\\n",
       "0        197.0  HYPER_EQUIPPED          0        0.0        0  ...       0   \n",
       "1        197.0  HYPER_EQUIPPED          0        0.0        0  ...       0   \n",
       "2        192.0  HYPER_EQUIPPED          0        0.0        0  ...       0   \n",
       "\n",
       "   garden_area  surface_land  number_facades  swimming_pool  building_state  \\\n",
       "0          0.0         461.0             3.0              0          AS_NEW   \n",
       "1          0.0         343.0             3.0              0          AS_NEW   \n",
       "2          0.0         392.0             3.0              0          AS_NEW   \n",
       "\n",
       "     region province   latitude  longitude  \n",
       "0  Flanders  Limburg  49.746322   3.073303  \n",
       "1  Flanders  Limburg  49.746322   3.073303  \n",
       "2  Flanders  Limburg  49.746322   3.073303  \n",
       "\n",
       "[3 rows x 21 columns]"
      ]
     },
     "execution_count": 13,
     "metadata": {},
     "output_type": "execute_result"
    }
   ],
   "source": [
    "df = pd.read_csv('../data/cleaned.csv').drop('Unnamed: 0', axis=1)\n",
    "df.drop_duplicates()\n",
    "df.head(3)"
   ]
  },
  {
   "cell_type": "code",
   "execution_count": 14,
   "metadata": {},
   "outputs": [
    {
     "data": {
      "text/plain": [
       "Index(['locality', 'property_type', 'property_subtype', 'price',\n",
       "       'number_rooms', 'living_area', 'kitchen', 'furnished', 'fireplace',\n",
       "       'terrace', 'terrace_area', 'garden', 'garden_area', 'surface_land',\n",
       "       'number_facades', 'swimming_pool', 'building_state', 'region',\n",
       "       'province', 'latitude', 'longitude'],\n",
       "      dtype='object')"
      ]
     },
     "execution_count": 14,
     "metadata": {},
     "output_type": "execute_result"
    }
   ],
   "source": [
    "df.columns"
   ]
  },
  {
   "cell_type": "code",
   "execution_count": null,
   "metadata": {},
   "outputs": [],
   "source": [
    "from sklearn.model_selection import train_test_split\n",
    "\n",
    "X_train, X_test, y_train, y_test = train_test_split()"
   ]
  }
 ],
 "metadata": {
  "kernelspec": {
   "display_name": ".env",
   "language": "python",
   "name": "python3"
  },
  "language_info": {
   "codemirror_mode": {
    "name": "ipython",
    "version": 3
   },
   "file_extension": ".py",
   "mimetype": "text/x-python",
   "name": "python",
   "nbconvert_exporter": "python",
   "pygments_lexer": "ipython3",
   "version": "3.11.2"
  },
  "orig_nbformat": 4
 },
 "nbformat": 4,
 "nbformat_minor": 2
}
