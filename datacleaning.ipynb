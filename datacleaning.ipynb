{
 "cells": [
  {
   "cell_type": "code",
   "execution_count": 177,
   "metadata": {},
   "outputs": [],
   "source": [
    "import pandas as pd\n",
    "import numpy as np"
   ]
  },
  {
   "cell_type": "code",
   "execution_count": 178,
   "metadata": {},
   "outputs": [],
   "source": [
    "df = pd.read_csv('dataframe_20k_290623.csv').drop(columns=['Unnamed: 0'])"
   ]
  },
  {
   "cell_type": "code",
   "execution_count": 179,
   "metadata": {},
   "outputs": [
    {
     "data": {
      "text/html": [
       "<div>\n",
       "<style scoped>\n",
       "    .dataframe tbody tr th:only-of-type {\n",
       "        vertical-align: middle;\n",
       "    }\n",
       "\n",
       "    .dataframe tbody tr th {\n",
       "        vertical-align: top;\n",
       "    }\n",
       "\n",
       "    .dataframe thead th {\n",
       "        text-align: right;\n",
       "    }\n",
       "</style>\n",
       "<table border=\"1\" class=\"dataframe\">\n",
       "  <thead>\n",
       "    <tr style=\"text-align: right;\">\n",
       "      <th></th>\n",
       "      <th>locality</th>\n",
       "      <th>type of property</th>\n",
       "      <th>subtype of property</th>\n",
       "      <th>price</th>\n",
       "      <th>number_rooms</th>\n",
       "      <th>living_area</th>\n",
       "      <th>kitchen</th>\n",
       "      <th>furnished</th>\n",
       "      <th>fireplace</th>\n",
       "      <th>terrace</th>\n",
       "      <th>terrace_area</th>\n",
       "      <th>garden</th>\n",
       "      <th>garden_area</th>\n",
       "      <th>surface_land</th>\n",
       "      <th>number_facades</th>\n",
       "      <th>swimming_pool</th>\n",
       "      <th>building_state</th>\n",
       "    </tr>\n",
       "  </thead>\n",
       "  <tbody>\n",
       "    <tr>\n",
       "      <th>0</th>\n",
       "      <td>Ham</td>\n",
       "      <td>HOUSE</td>\n",
       "      <td>VILLA</td>\n",
       "      <td>429500.0</td>\n",
       "      <td>4.0</td>\n",
       "      <td>215.0</td>\n",
       "      <td>INSTALLED</td>\n",
       "      <td>NaN</td>\n",
       "      <td>-1.0</td>\n",
       "      <td>NaN</td>\n",
       "      <td>NaN</td>\n",
       "      <td>True</td>\n",
       "      <td>NaN</td>\n",
       "      <td>1472</td>\n",
       "      <td>4</td>\n",
       "      <td>NaN</td>\n",
       "      <td>GOOD</td>\n",
       "    </tr>\n",
       "    <tr>\n",
       "      <th>1</th>\n",
       "      <td>Putte</td>\n",
       "      <td>HOUSE</td>\n",
       "      <td>HOUSE</td>\n",
       "      <td>599000.0</td>\n",
       "      <td>5.0</td>\n",
       "      <td>167.0</td>\n",
       "      <td>INSTALLED</td>\n",
       "      <td>NaN</td>\n",
       "      <td>-1.0</td>\n",
       "      <td>True</td>\n",
       "      <td>NaN</td>\n",
       "      <td>True</td>\n",
       "      <td>95.0</td>\n",
       "      <td>416</td>\n",
       "      <td>4</td>\n",
       "      <td>NaN</td>\n",
       "      <td>JUST_RENOVATED</td>\n",
       "    </tr>\n",
       "    <tr>\n",
       "      <th>2</th>\n",
       "      <td>IVOZ-RAMET</td>\n",
       "      <td>HOUSE</td>\n",
       "      <td>HOUSE</td>\n",
       "      <td>20000.0</td>\n",
       "      <td>3.0</td>\n",
       "      <td>130.0</td>\n",
       "      <td>INSTALLED</td>\n",
       "      <td>NaN</td>\n",
       "      <td>-1.0</td>\n",
       "      <td>True</td>\n",
       "      <td>NaN</td>\n",
       "      <td>NaN</td>\n",
       "      <td>NaN</td>\n",
       "      <td>182</td>\n",
       "      <td>3</td>\n",
       "      <td>NaN</td>\n",
       "      <td>GOOD</td>\n",
       "    </tr>\n",
       "    <tr>\n",
       "      <th>3</th>\n",
       "      <td>Herstal</td>\n",
       "      <td>HOUSE</td>\n",
       "      <td>HOUSE</td>\n",
       "      <td>45000.0</td>\n",
       "      <td>2.0</td>\n",
       "      <td>120.0</td>\n",
       "      <td>USA_INSTALLED</td>\n",
       "      <td>True</td>\n",
       "      <td>NaN</td>\n",
       "      <td>True</td>\n",
       "      <td>12.0</td>\n",
       "      <td>True</td>\n",
       "      <td>80.0</td>\n",
       "      <td>221</td>\n",
       "      <td>2</td>\n",
       "      <td>False</td>\n",
       "      <td>TO_BE_DONE_UP</td>\n",
       "    </tr>\n",
       "    <tr>\n",
       "      <th>4</th>\n",
       "      <td>Liege</td>\n",
       "      <td>HOUSE</td>\n",
       "      <td>HOUSE</td>\n",
       "      <td>109000.0</td>\n",
       "      <td>2.0</td>\n",
       "      <td>62.0</td>\n",
       "      <td>SEMI_EQUIPPED</td>\n",
       "      <td>False</td>\n",
       "      <td>NaN</td>\n",
       "      <td>NaN</td>\n",
       "      <td>NaN</td>\n",
       "      <td>NaN</td>\n",
       "      <td>NaN</td>\n",
       "      <td>45</td>\n",
       "      <td>2</td>\n",
       "      <td>False</td>\n",
       "      <td>TO_BE_DONE_UP</td>\n",
       "    </tr>\n",
       "  </tbody>\n",
       "</table>\n",
       "</div>"
      ],
      "text/plain": [
       "     locality type of property subtype of property     price  number_rooms  \\\n",
       "0         Ham            HOUSE               VILLA  429500.0           4.0   \n",
       "1       Putte            HOUSE               HOUSE  599000.0           5.0   \n",
       "2  IVOZ-RAMET            HOUSE               HOUSE   20000.0           3.0   \n",
       "3     Herstal            HOUSE               HOUSE   45000.0           2.0   \n",
       "4       Liege            HOUSE               HOUSE  109000.0           2.0   \n",
       "\n",
       "   living_area        kitchen furnished  fireplace terrace  terrace_area  \\\n",
       "0        215.0      INSTALLED       NaN       -1.0     NaN           NaN   \n",
       "1        167.0      INSTALLED       NaN       -1.0    True           NaN   \n",
       "2        130.0      INSTALLED       NaN       -1.0    True           NaN   \n",
       "3        120.0  USA_INSTALLED      True        NaN    True          12.0   \n",
       "4         62.0  SEMI_EQUIPPED     False        NaN     NaN           NaN   \n",
       "\n",
       "  garden  garden_area surface_land number_facades swimming_pool  \\\n",
       "0   True          NaN         1472              4           NaN   \n",
       "1   True         95.0          416              4           NaN   \n",
       "2    NaN          NaN          182              3           NaN   \n",
       "3   True         80.0          221              2         False   \n",
       "4    NaN          NaN           45              2         False   \n",
       "\n",
       "   building_state  \n",
       "0            GOOD  \n",
       "1  JUST_RENOVATED  \n",
       "2            GOOD  \n",
       "3   TO_BE_DONE_UP  \n",
       "4   TO_BE_DONE_UP  "
      ]
     },
     "execution_count": 179,
     "metadata": {},
     "output_type": "execute_result"
    }
   ],
   "source": [
    "df.head()"
   ]
  },
  {
   "cell_type": "code",
   "execution_count": 180,
   "metadata": {},
   "outputs": [
    {
     "data": {
      "text/html": [
       "<div>\n",
       "<style scoped>\n",
       "    .dataframe tbody tr th:only-of-type {\n",
       "        vertical-align: middle;\n",
       "    }\n",
       "\n",
       "    .dataframe tbody tr th {\n",
       "        vertical-align: top;\n",
       "    }\n",
       "\n",
       "    .dataframe thead th {\n",
       "        text-align: right;\n",
       "    }\n",
       "</style>\n",
       "<table border=\"1\" class=\"dataframe\">\n",
       "  <thead>\n",
       "    <tr style=\"text-align: right;\">\n",
       "      <th></th>\n",
       "      <th>locality</th>\n",
       "      <th>property_type</th>\n",
       "      <th>property_subtype</th>\n",
       "      <th>price</th>\n",
       "      <th>number_rooms</th>\n",
       "      <th>living_area</th>\n",
       "      <th>kitchen</th>\n",
       "      <th>furnished</th>\n",
       "      <th>fireplace</th>\n",
       "      <th>terrace</th>\n",
       "      <th>terrace_area</th>\n",
       "      <th>garden</th>\n",
       "      <th>garden_area</th>\n",
       "      <th>surface_land</th>\n",
       "      <th>number_facades</th>\n",
       "      <th>swimming_pool</th>\n",
       "      <th>building_state</th>\n",
       "    </tr>\n",
       "  </thead>\n",
       "  <tbody>\n",
       "    <tr>\n",
       "      <th>0</th>\n",
       "      <td>Ham</td>\n",
       "      <td>HOUSE</td>\n",
       "      <td>VILLA</td>\n",
       "      <td>429500.0</td>\n",
       "      <td>4.0</td>\n",
       "      <td>215.0</td>\n",
       "      <td>INSTALLED</td>\n",
       "      <td>NaN</td>\n",
       "      <td>-1.0</td>\n",
       "      <td>NaN</td>\n",
       "      <td>NaN</td>\n",
       "      <td>True</td>\n",
       "      <td>NaN</td>\n",
       "      <td>1472</td>\n",
       "      <td>4</td>\n",
       "      <td>NaN</td>\n",
       "      <td>GOOD</td>\n",
       "    </tr>\n",
       "    <tr>\n",
       "      <th>1</th>\n",
       "      <td>Putte</td>\n",
       "      <td>HOUSE</td>\n",
       "      <td>HOUSE</td>\n",
       "      <td>599000.0</td>\n",
       "      <td>5.0</td>\n",
       "      <td>167.0</td>\n",
       "      <td>INSTALLED</td>\n",
       "      <td>NaN</td>\n",
       "      <td>-1.0</td>\n",
       "      <td>True</td>\n",
       "      <td>NaN</td>\n",
       "      <td>True</td>\n",
       "      <td>95.0</td>\n",
       "      <td>416</td>\n",
       "      <td>4</td>\n",
       "      <td>NaN</td>\n",
       "      <td>JUST_RENOVATED</td>\n",
       "    </tr>\n",
       "    <tr>\n",
       "      <th>2</th>\n",
       "      <td>IVOZ-RAMET</td>\n",
       "      <td>HOUSE</td>\n",
       "      <td>HOUSE</td>\n",
       "      <td>20000.0</td>\n",
       "      <td>3.0</td>\n",
       "      <td>130.0</td>\n",
       "      <td>INSTALLED</td>\n",
       "      <td>NaN</td>\n",
       "      <td>-1.0</td>\n",
       "      <td>True</td>\n",
       "      <td>NaN</td>\n",
       "      <td>NaN</td>\n",
       "      <td>NaN</td>\n",
       "      <td>182</td>\n",
       "      <td>3</td>\n",
       "      <td>NaN</td>\n",
       "      <td>GOOD</td>\n",
       "    </tr>\n",
       "    <tr>\n",
       "      <th>3</th>\n",
       "      <td>Herstal</td>\n",
       "      <td>HOUSE</td>\n",
       "      <td>HOUSE</td>\n",
       "      <td>45000.0</td>\n",
       "      <td>2.0</td>\n",
       "      <td>120.0</td>\n",
       "      <td>USA_INSTALLED</td>\n",
       "      <td>True</td>\n",
       "      <td>NaN</td>\n",
       "      <td>True</td>\n",
       "      <td>12.0</td>\n",
       "      <td>True</td>\n",
       "      <td>80.0</td>\n",
       "      <td>221</td>\n",
       "      <td>2</td>\n",
       "      <td>False</td>\n",
       "      <td>TO_BE_DONE_UP</td>\n",
       "    </tr>\n",
       "    <tr>\n",
       "      <th>4</th>\n",
       "      <td>Liege</td>\n",
       "      <td>HOUSE</td>\n",
       "      <td>HOUSE</td>\n",
       "      <td>109000.0</td>\n",
       "      <td>2.0</td>\n",
       "      <td>62.0</td>\n",
       "      <td>SEMI_EQUIPPED</td>\n",
       "      <td>False</td>\n",
       "      <td>NaN</td>\n",
       "      <td>NaN</td>\n",
       "      <td>NaN</td>\n",
       "      <td>NaN</td>\n",
       "      <td>NaN</td>\n",
       "      <td>45</td>\n",
       "      <td>2</td>\n",
       "      <td>False</td>\n",
       "      <td>TO_BE_DONE_UP</td>\n",
       "    </tr>\n",
       "  </tbody>\n",
       "</table>\n",
       "</div>"
      ],
      "text/plain": [
       "     locality property_type property_subtype     price  number_rooms  \\\n",
       "0         Ham         HOUSE            VILLA  429500.0           4.0   \n",
       "1       Putte         HOUSE            HOUSE  599000.0           5.0   \n",
       "2  IVOZ-RAMET         HOUSE            HOUSE   20000.0           3.0   \n",
       "3     Herstal         HOUSE            HOUSE   45000.0           2.0   \n",
       "4       Liege         HOUSE            HOUSE  109000.0           2.0   \n",
       "\n",
       "   living_area        kitchen furnished  fireplace terrace  terrace_area  \\\n",
       "0        215.0      INSTALLED       NaN       -1.0     NaN           NaN   \n",
       "1        167.0      INSTALLED       NaN       -1.0    True           NaN   \n",
       "2        130.0      INSTALLED       NaN       -1.0    True           NaN   \n",
       "3        120.0  USA_INSTALLED      True        NaN    True          12.0   \n",
       "4         62.0  SEMI_EQUIPPED     False        NaN     NaN           NaN   \n",
       "\n",
       "  garden  garden_area surface_land number_facades swimming_pool  \\\n",
       "0   True          NaN         1472              4           NaN   \n",
       "1   True         95.0          416              4           NaN   \n",
       "2    NaN          NaN          182              3           NaN   \n",
       "3   True         80.0          221              2         False   \n",
       "4    NaN          NaN           45              2         False   \n",
       "\n",
       "   building_state  \n",
       "0            GOOD  \n",
       "1  JUST_RENOVATED  \n",
       "2            GOOD  \n",
       "3   TO_BE_DONE_UP  \n",
       "4   TO_BE_DONE_UP  "
      ]
     },
     "execution_count": 180,
     "metadata": {},
     "output_type": "execute_result"
    }
   ],
   "source": [
    "df.rename(columns = {'type of property':'property_type', 'subtype of property':'property_subtype'}, inplace = True)\n",
    "df.head()"
   ]
  },
  {
   "cell_type": "code",
   "execution_count": 181,
   "metadata": {},
   "outputs": [
    {
     "name": "stdout",
     "output_type": "stream",
     "text": [
      "<class 'pandas.core.frame.DataFrame'>\n",
      "RangeIndex: 19980 entries, 0 to 19979\n",
      "Data columns (total 17 columns):\n",
      " #   Column            Non-Null Count  Dtype  \n",
      "---  ------            --------------  -----  \n",
      " 0   locality          19974 non-null  object \n",
      " 1   property_type     19974 non-null  object \n",
      " 2   property_subtype  19974 non-null  object \n",
      " 3   price             19499 non-null  float64\n",
      " 4   number_rooms      19499 non-null  float64\n",
      " 5   living_area       18445 non-null  float64\n",
      " 6   kitchen           18077 non-null  object \n",
      " 7   furnished         9815 non-null   object \n",
      " 8   fireplace         6176 non-null   float64\n",
      " 9   terrace           12887 non-null  object \n",
      " 10  terrace_area      7391 non-null   float64\n",
      " 11  garden            9078 non-null   object \n",
      " 12  garden_area       5916 non-null   float64\n",
      " 13  surface_land      18209 non-null  object \n",
      " 14  number_facades    16438 non-null  object \n",
      " 15  swimming_pool     10256 non-null  object \n",
      " 16  building_state    16589 non-null  object \n",
      "dtypes: float64(6), object(11)\n",
      "memory usage: 2.6+ MB\n"
     ]
    }
   ],
   "source": [
    "df.info()"
   ]
  },
  {
   "cell_type": "code",
   "execution_count": 182,
   "metadata": {},
   "outputs": [
    {
     "name": "stdout",
     "output_type": "stream",
     "text": [
      "<class 'pandas.core.frame.DataFrame'>\n",
      "RangeIndex: 19980 entries, 0 to 19979\n",
      "Data columns (total 17 columns):\n",
      " #   Column            Non-Null Count  Dtype  \n",
      "---  ------            --------------  -----  \n",
      " 0   locality          19974 non-null  object \n",
      " 1   property_type     19974 non-null  object \n",
      " 2   property_subtype  19974 non-null  object \n",
      " 3   price             19499 non-null  float64\n",
      " 4   number_rooms      19499 non-null  float64\n",
      " 5   living_area       18445 non-null  float64\n",
      " 6   kitchen           18077 non-null  object \n",
      " 7   furnished         9815 non-null   object \n",
      " 8   fireplace         6176 non-null   float64\n",
      " 9   terrace           12887 non-null  object \n",
      " 10  terrace_area      7391 non-null   float64\n",
      " 11  garden            9078 non-null   object \n",
      " 12  garden_area       5916 non-null   float64\n",
      " 13  surface_land      18209 non-null  object \n",
      " 14  number_facades    16438 non-null  object \n",
      " 15  swimming_pool     10256 non-null  object \n",
      " 16  building_state    16589 non-null  object \n",
      "dtypes: float64(6), object(11)\n",
      "memory usage: 2.6+ MB\n"
     ]
    }
   ],
   "source": [
    "df.drop_duplicates()\n",
    "df.info()"
   ]
  },
  {
   "cell_type": "code",
   "execution_count": 183,
   "metadata": {},
   "outputs": [],
   "source": [
    "def analyze_column(df, column_name):\n",
    "    column = df[column_name]\n",
    "    num_nan = column.isnull().sum()\n",
    "    num_unique = column.nunique()\n",
    "    unique_values = column.unique()\n",
    "    percentage_nan = (num_nan / len(column)) * 100\n",
    "    percentage_unique = (num_unique / len(column)) * 100\n",
    "    print(f\"Analysis for column '{column_name}':\")\n",
    "    print(f\"Number of NaN values: {num_nan}\")\n",
    "    print(f\"Number of unique values: {num_unique}\")\n",
    "    print(f\"Percentage of NaN values: {percentage_nan:.2f}%\")\n",
    "    print(f\"Percentage of unique values: {percentage_unique:.2f}%\")\n",
    "    print(f\"Unique values: {unique_values}\")"
   ]
  },
  {
   "cell_type": "code",
   "execution_count": 184,
   "metadata": {},
   "outputs": [],
   "source": [
    "df = df.dropna(how='all')"
   ]
  },
  {
   "attachments": {},
   "cell_type": "markdown",
   "metadata": {},
   "source": [
    "### 0. PRICE"
   ]
  },
  {
   "cell_type": "code",
   "execution_count": 185,
   "metadata": {},
   "outputs": [],
   "source": [
    "# If we dont have a price - Delete the rows - not useable to predict pricing!"
   ]
  },
  {
   "cell_type": "code",
   "execution_count": 186,
   "metadata": {},
   "outputs": [
    {
     "name": "stdout",
     "output_type": "stream",
     "text": [
      "<class 'pandas.core.series.Series'>\n",
      "Index: 19974 entries, 0 to 19979\n",
      "Series name: price\n",
      "Non-Null Count  Dtype  \n",
      "--------------  -----  \n",
      "19499 non-null  float64\n",
      "dtypes: float64(1)\n",
      "memory usage: 312.1 KB\n",
      "<class 'pandas.core.series.Series'>\n",
      "Index: 19974 entries, 0 to 19979\n",
      "Series name: price\n",
      "Non-Null Count  Dtype  \n",
      "--------------  -----  \n",
      "19499 non-null  float64\n",
      "dtypes: float64(1)\n",
      "memory usage: 312.1 KB\n"
     ]
    }
   ],
   "source": [
    "# This will be what we will need to predict\n",
    "df['price'].info()\n",
    "df.price.info()"
   ]
  },
  {
   "cell_type": "code",
   "execution_count": 187,
   "metadata": {},
   "outputs": [
    {
     "name": "stdout",
     "output_type": "stream",
     "text": [
      "Analysis for column 'price':\n",
      "Number of NaN values: 475\n",
      "Number of unique values: 1624\n",
      "Percentage of NaN values: 2.38%\n",
      "Percentage of unique values: 8.13%\n",
      "Unique values: [429500. 599000.  20000. ... 381500. 351000. 176000.]\n"
     ]
    }
   ],
   "source": [
    "# We have 475 rows with NaN as price - 2.38% of the total\n",
    "\n",
    "analyze_column(df, 'price')"
   ]
  },
  {
   "cell_type": "code",
   "execution_count": 188,
   "metadata": {},
   "outputs": [
    {
     "data": {
      "text/html": [
       "<div>\n",
       "<style scoped>\n",
       "    .dataframe tbody tr th:only-of-type {\n",
       "        vertical-align: middle;\n",
       "    }\n",
       "\n",
       "    .dataframe tbody tr th {\n",
       "        vertical-align: top;\n",
       "    }\n",
       "\n",
       "    .dataframe thead th {\n",
       "        text-align: right;\n",
       "    }\n",
       "</style>\n",
       "<table border=\"1\" class=\"dataframe\">\n",
       "  <thead>\n",
       "    <tr style=\"text-align: right;\">\n",
       "      <th></th>\n",
       "      <th>locality</th>\n",
       "      <th>property_type</th>\n",
       "      <th>property_subtype</th>\n",
       "      <th>price</th>\n",
       "      <th>number_rooms</th>\n",
       "      <th>living_area</th>\n",
       "      <th>kitchen</th>\n",
       "      <th>furnished</th>\n",
       "      <th>fireplace</th>\n",
       "      <th>terrace</th>\n",
       "      <th>terrace_area</th>\n",
       "      <th>garden</th>\n",
       "      <th>garden_area</th>\n",
       "      <th>surface_land</th>\n",
       "      <th>number_facades</th>\n",
       "      <th>swimming_pool</th>\n",
       "      <th>building_state</th>\n",
       "    </tr>\n",
       "  </thead>\n",
       "  <tbody>\n",
       "    <tr>\n",
       "      <th>47</th>\n",
       "      <td>Roeselare</td>\n",
       "      <td>APARTMENT_GROUP</td>\n",
       "      <td>APARTMENT_GROUP</td>\n",
       "      <td>NaN</td>\n",
       "      <td>NaN</td>\n",
       "      <td>NaN</td>\n",
       "      <td>0</td>\n",
       "      <td>False</td>\n",
       "      <td>NaN</td>\n",
       "      <td>NaN</td>\n",
       "      <td>NaN</td>\n",
       "      <td>NaN</td>\n",
       "      <td>NaN</td>\n",
       "      <td>UNKNOWN</td>\n",
       "      <td>UNKNOWN</td>\n",
       "      <td>NaN</td>\n",
       "      <td>UNKNOWN</td>\n",
       "    </tr>\n",
       "    <tr>\n",
       "      <th>90</th>\n",
       "      <td>Evere</td>\n",
       "      <td>APARTMENT_GROUP</td>\n",
       "      <td>APARTMENT_GROUP</td>\n",
       "      <td>NaN</td>\n",
       "      <td>NaN</td>\n",
       "      <td>NaN</td>\n",
       "      <td>0</td>\n",
       "      <td>NaN</td>\n",
       "      <td>NaN</td>\n",
       "      <td>NaN</td>\n",
       "      <td>NaN</td>\n",
       "      <td>NaN</td>\n",
       "      <td>NaN</td>\n",
       "      <td>UNKNOWN</td>\n",
       "      <td>UNKNOWN</td>\n",
       "      <td>NaN</td>\n",
       "      <td>UNKNOWN</td>\n",
       "    </tr>\n",
       "    <tr>\n",
       "      <th>181</th>\n",
       "      <td>Balen</td>\n",
       "      <td>HOUSE_GROUP</td>\n",
       "      <td>HOUSE_GROUP</td>\n",
       "      <td>NaN</td>\n",
       "      <td>NaN</td>\n",
       "      <td>NaN</td>\n",
       "      <td>0</td>\n",
       "      <td>False</td>\n",
       "      <td>NaN</td>\n",
       "      <td>NaN</td>\n",
       "      <td>NaN</td>\n",
       "      <td>NaN</td>\n",
       "      <td>NaN</td>\n",
       "      <td>UNKNOWN</td>\n",
       "      <td>UNKNOWN</td>\n",
       "      <td>NaN</td>\n",
       "      <td>UNKNOWN</td>\n",
       "    </tr>\n",
       "    <tr>\n",
       "      <th>182</th>\n",
       "      <td>HERSELT</td>\n",
       "      <td>HOUSE_GROUP</td>\n",
       "      <td>HOUSE_GROUP</td>\n",
       "      <td>NaN</td>\n",
       "      <td>NaN</td>\n",
       "      <td>NaN</td>\n",
       "      <td>0</td>\n",
       "      <td>NaN</td>\n",
       "      <td>NaN</td>\n",
       "      <td>NaN</td>\n",
       "      <td>NaN</td>\n",
       "      <td>NaN</td>\n",
       "      <td>NaN</td>\n",
       "      <td>UNKNOWN</td>\n",
       "      <td>UNKNOWN</td>\n",
       "      <td>NaN</td>\n",
       "      <td>UNKNOWN</td>\n",
       "    </tr>\n",
       "    <tr>\n",
       "      <th>183</th>\n",
       "      <td>WITGOOR</td>\n",
       "      <td>HOUSE_GROUP</td>\n",
       "      <td>HOUSE_GROUP</td>\n",
       "      <td>NaN</td>\n",
       "      <td>NaN</td>\n",
       "      <td>NaN</td>\n",
       "      <td>0</td>\n",
       "      <td>NaN</td>\n",
       "      <td>NaN</td>\n",
       "      <td>NaN</td>\n",
       "      <td>NaN</td>\n",
       "      <td>NaN</td>\n",
       "      <td>NaN</td>\n",
       "      <td>UNKNOWN</td>\n",
       "      <td>UNKNOWN</td>\n",
       "      <td>NaN</td>\n",
       "      <td>UNKNOWN</td>\n",
       "    </tr>\n",
       "    <tr>\n",
       "      <th>...</th>\n",
       "      <td>...</td>\n",
       "      <td>...</td>\n",
       "      <td>...</td>\n",
       "      <td>...</td>\n",
       "      <td>...</td>\n",
       "      <td>...</td>\n",
       "      <td>...</td>\n",
       "      <td>...</td>\n",
       "      <td>...</td>\n",
       "      <td>...</td>\n",
       "      <td>...</td>\n",
       "      <td>...</td>\n",
       "      <td>...</td>\n",
       "      <td>...</td>\n",
       "      <td>...</td>\n",
       "      <td>...</td>\n",
       "      <td>...</td>\n",
       "    </tr>\n",
       "    <tr>\n",
       "      <th>18901</th>\n",
       "      <td>Mons</td>\n",
       "      <td>HOUSE_GROUP</td>\n",
       "      <td>HOUSE_GROUP</td>\n",
       "      <td>NaN</td>\n",
       "      <td>NaN</td>\n",
       "      <td>NaN</td>\n",
       "      <td>0</td>\n",
       "      <td>NaN</td>\n",
       "      <td>NaN</td>\n",
       "      <td>NaN</td>\n",
       "      <td>NaN</td>\n",
       "      <td>NaN</td>\n",
       "      <td>NaN</td>\n",
       "      <td>UNKNOWN</td>\n",
       "      <td>UNKNOWN</td>\n",
       "      <td>NaN</td>\n",
       "      <td>UNKNOWN</td>\n",
       "    </tr>\n",
       "    <tr>\n",
       "      <th>19186</th>\n",
       "      <td>Borgloon</td>\n",
       "      <td>HOUSE_GROUP</td>\n",
       "      <td>HOUSE_GROUP</td>\n",
       "      <td>NaN</td>\n",
       "      <td>NaN</td>\n",
       "      <td>NaN</td>\n",
       "      <td>0</td>\n",
       "      <td>NaN</td>\n",
       "      <td>NaN</td>\n",
       "      <td>NaN</td>\n",
       "      <td>NaN</td>\n",
       "      <td>NaN</td>\n",
       "      <td>NaN</td>\n",
       "      <td>UNKNOWN</td>\n",
       "      <td>UNKNOWN</td>\n",
       "      <td>NaN</td>\n",
       "      <td>UNKNOWN</td>\n",
       "    </tr>\n",
       "    <tr>\n",
       "      <th>19537</th>\n",
       "      <td>Borgloon</td>\n",
       "      <td>APARTMENT_GROUP</td>\n",
       "      <td>APARTMENT_GROUP</td>\n",
       "      <td>NaN</td>\n",
       "      <td>NaN</td>\n",
       "      <td>NaN</td>\n",
       "      <td>0</td>\n",
       "      <td>NaN</td>\n",
       "      <td>NaN</td>\n",
       "      <td>NaN</td>\n",
       "      <td>NaN</td>\n",
       "      <td>NaN</td>\n",
       "      <td>NaN</td>\n",
       "      <td>UNKNOWN</td>\n",
       "      <td>UNKNOWN</td>\n",
       "      <td>NaN</td>\n",
       "      <td>UNKNOWN</td>\n",
       "    </tr>\n",
       "    <tr>\n",
       "      <th>19718</th>\n",
       "      <td>Dessel</td>\n",
       "      <td>HOUSE_GROUP</td>\n",
       "      <td>HOUSE_GROUP</td>\n",
       "      <td>NaN</td>\n",
       "      <td>NaN</td>\n",
       "      <td>NaN</td>\n",
       "      <td>0</td>\n",
       "      <td>NaN</td>\n",
       "      <td>NaN</td>\n",
       "      <td>NaN</td>\n",
       "      <td>NaN</td>\n",
       "      <td>NaN</td>\n",
       "      <td>NaN</td>\n",
       "      <td>UNKNOWN</td>\n",
       "      <td>UNKNOWN</td>\n",
       "      <td>NaN</td>\n",
       "      <td>UNKNOWN</td>\n",
       "    </tr>\n",
       "    <tr>\n",
       "      <th>19726</th>\n",
       "      <td>Waregem</td>\n",
       "      <td>APARTMENT_GROUP</td>\n",
       "      <td>APARTMENT_GROUP</td>\n",
       "      <td>NaN</td>\n",
       "      <td>NaN</td>\n",
       "      <td>NaN</td>\n",
       "      <td>0</td>\n",
       "      <td>NaN</td>\n",
       "      <td>NaN</td>\n",
       "      <td>NaN</td>\n",
       "      <td>NaN</td>\n",
       "      <td>NaN</td>\n",
       "      <td>NaN</td>\n",
       "      <td>UNKNOWN</td>\n",
       "      <td>UNKNOWN</td>\n",
       "      <td>NaN</td>\n",
       "      <td>UNKNOWN</td>\n",
       "    </tr>\n",
       "  </tbody>\n",
       "</table>\n",
       "<p>475 rows × 17 columns</p>\n",
       "</div>"
      ],
      "text/plain": [
       "        locality    property_type property_subtype  price  number_rooms  \\\n",
       "47     Roeselare  APARTMENT_GROUP  APARTMENT_GROUP    NaN           NaN   \n",
       "90         Evere  APARTMENT_GROUP  APARTMENT_GROUP    NaN           NaN   \n",
       "181        Balen      HOUSE_GROUP      HOUSE_GROUP    NaN           NaN   \n",
       "182      HERSELT      HOUSE_GROUP      HOUSE_GROUP    NaN           NaN   \n",
       "183      WITGOOR      HOUSE_GROUP      HOUSE_GROUP    NaN           NaN   \n",
       "...          ...              ...              ...    ...           ...   \n",
       "18901       Mons      HOUSE_GROUP      HOUSE_GROUP    NaN           NaN   \n",
       "19186   Borgloon      HOUSE_GROUP      HOUSE_GROUP    NaN           NaN   \n",
       "19537   Borgloon  APARTMENT_GROUP  APARTMENT_GROUP    NaN           NaN   \n",
       "19718     Dessel      HOUSE_GROUP      HOUSE_GROUP    NaN           NaN   \n",
       "19726    Waregem  APARTMENT_GROUP  APARTMENT_GROUP    NaN           NaN   \n",
       "\n",
       "       living_area kitchen furnished  fireplace terrace  terrace_area garden  \\\n",
       "47             NaN       0     False        NaN     NaN           NaN    NaN   \n",
       "90             NaN       0       NaN        NaN     NaN           NaN    NaN   \n",
       "181            NaN       0     False        NaN     NaN           NaN    NaN   \n",
       "182            NaN       0       NaN        NaN     NaN           NaN    NaN   \n",
       "183            NaN       0       NaN        NaN     NaN           NaN    NaN   \n",
       "...            ...     ...       ...        ...     ...           ...    ...   \n",
       "18901          NaN       0       NaN        NaN     NaN           NaN    NaN   \n",
       "19186          NaN       0       NaN        NaN     NaN           NaN    NaN   \n",
       "19537          NaN       0       NaN        NaN     NaN           NaN    NaN   \n",
       "19718          NaN       0       NaN        NaN     NaN           NaN    NaN   \n",
       "19726          NaN       0       NaN        NaN     NaN           NaN    NaN   \n",
       "\n",
       "       garden_area surface_land number_facades swimming_pool building_state  \n",
       "47             NaN      UNKNOWN        UNKNOWN           NaN        UNKNOWN  \n",
       "90             NaN      UNKNOWN        UNKNOWN           NaN        UNKNOWN  \n",
       "181            NaN      UNKNOWN        UNKNOWN           NaN        UNKNOWN  \n",
       "182            NaN      UNKNOWN        UNKNOWN           NaN        UNKNOWN  \n",
       "183            NaN      UNKNOWN        UNKNOWN           NaN        UNKNOWN  \n",
       "...            ...          ...            ...           ...            ...  \n",
       "18901          NaN      UNKNOWN        UNKNOWN           NaN        UNKNOWN  \n",
       "19186          NaN      UNKNOWN        UNKNOWN           NaN        UNKNOWN  \n",
       "19537          NaN      UNKNOWN        UNKNOWN           NaN        UNKNOWN  \n",
       "19718          NaN      UNKNOWN        UNKNOWN           NaN        UNKNOWN  \n",
       "19726          NaN      UNKNOWN        UNKNOWN           NaN        UNKNOWN  \n",
       "\n",
       "[475 rows x 17 columns]"
      ]
     },
     "execution_count": 188,
     "metadata": {},
     "output_type": "execute_result"
    }
   ],
   "source": [
    "df[df['price'].isna()]\n",
    "# Most values are not Filled in (NaN) so I decide to drop all of these 475 rows"
   ]
  },
  {
   "cell_type": "code",
   "execution_count": 189,
   "metadata": {},
   "outputs": [],
   "source": [
    "df = df.dropna(subset=['price'])"
   ]
  },
  {
   "cell_type": "code",
   "execution_count": 190,
   "metadata": {},
   "outputs": [
    {
     "data": {
      "text/html": [
       "<div>\n",
       "<style scoped>\n",
       "    .dataframe tbody tr th:only-of-type {\n",
       "        vertical-align: middle;\n",
       "    }\n",
       "\n",
       "    .dataframe tbody tr th {\n",
       "        vertical-align: top;\n",
       "    }\n",
       "\n",
       "    .dataframe thead th {\n",
       "        text-align: right;\n",
       "    }\n",
       "</style>\n",
       "<table border=\"1\" class=\"dataframe\">\n",
       "  <thead>\n",
       "    <tr style=\"text-align: right;\">\n",
       "      <th></th>\n",
       "      <th>locality</th>\n",
       "      <th>property_type</th>\n",
       "      <th>property_subtype</th>\n",
       "      <th>price</th>\n",
       "      <th>number_rooms</th>\n",
       "      <th>living_area</th>\n",
       "      <th>kitchen</th>\n",
       "      <th>furnished</th>\n",
       "      <th>fireplace</th>\n",
       "      <th>terrace</th>\n",
       "      <th>terrace_area</th>\n",
       "      <th>garden</th>\n",
       "      <th>garden_area</th>\n",
       "      <th>surface_land</th>\n",
       "      <th>number_facades</th>\n",
       "      <th>swimming_pool</th>\n",
       "      <th>building_state</th>\n",
       "    </tr>\n",
       "  </thead>\n",
       "  <tbody>\n",
       "  </tbody>\n",
       "</table>\n",
       "</div>"
      ],
      "text/plain": [
       "Empty DataFrame\n",
       "Columns: [locality, property_type, property_subtype, price, number_rooms, living_area, kitchen, furnished, fireplace, terrace, terrace_area, garden, garden_area, surface_land, number_facades, swimming_pool, building_state]\n",
       "Index: []"
      ]
     },
     "execution_count": 190,
     "metadata": {},
     "output_type": "execute_result"
    }
   ],
   "source": [
    "df[df['price'].isna()]\n",
    "# ALL NaN Values are dropped"
   ]
  },
  {
   "cell_type": "code",
   "execution_count": 191,
   "metadata": {},
   "outputs": [
    {
     "name": "stdout",
     "output_type": "stream",
     "text": [
      "<class 'pandas.core.frame.DataFrame'>\n",
      "Index: 19499 entries, 0 to 19979\n",
      "Data columns (total 17 columns):\n",
      " #   Column            Non-Null Count  Dtype  \n",
      "---  ------            --------------  -----  \n",
      " 0   locality          19499 non-null  object \n",
      " 1   property_type     19499 non-null  object \n",
      " 2   property_subtype  19499 non-null  object \n",
      " 3   price             19499 non-null  float64\n",
      " 4   number_rooms      19499 non-null  float64\n",
      " 5   living_area       18445 non-null  float64\n",
      " 6   kitchen           17602 non-null  object \n",
      " 7   furnished         9756 non-null   object \n",
      " 8   fireplace         6176 non-null   float64\n",
      " 9   terrace           12887 non-null  object \n",
      " 10  terrace_area      7391 non-null   float64\n",
      " 11  garden            9078 non-null   object \n",
      " 12  garden_area       5916 non-null   float64\n",
      " 13  surface_land      17734 non-null  object \n",
      " 14  number_facades    15963 non-null  object \n",
      " 15  swimming_pool     10256 non-null  object \n",
      " 16  building_state    16114 non-null  object \n",
      "dtypes: float64(6), object(11)\n",
      "memory usage: 2.7+ MB\n"
     ]
    }
   ],
   "source": [
    "df.info()"
   ]
  },
  {
   "cell_type": "code",
   "execution_count": 192,
   "metadata": {},
   "outputs": [],
   "source": [
    "# Resetting index to have nice looking dataframe\n",
    "df.reset_index(inplace=True, drop=True)"
   ]
  },
  {
   "cell_type": "code",
   "execution_count": 200,
   "metadata": {},
   "outputs": [
    {
     "name": "stdout",
     "output_type": "stream",
     "text": [
      "<class 'pandas.core.frame.DataFrame'>\n",
      "RangeIndex: 19499 entries, 0 to 19498\n",
      "Data columns (total 17 columns):\n",
      " #   Column            Non-Null Count  Dtype  \n",
      "---  ------            --------------  -----  \n",
      " 0   locality          19499 non-null  object \n",
      " 1   property_type     19499 non-null  object \n",
      " 2   property_subtype  19499 non-null  object \n",
      " 3   price             19499 non-null  float64\n",
      " 4   number_rooms      19499 non-null  float64\n",
      " 5   living_area       18445 non-null  float64\n",
      " 6   kitchen           17602 non-null  object \n",
      " 7   furnished         9756 non-null   object \n",
      " 8   fireplace         6176 non-null   float64\n",
      " 9   terrace           12887 non-null  object \n",
      " 10  terrace_area      7391 non-null   float64\n",
      " 11  garden            9078 non-null   object \n",
      " 12  garden_area       5916 non-null   float64\n",
      " 13  surface_land      17734 non-null  object \n",
      " 14  number_facades    15963 non-null  object \n",
      " 15  swimming_pool     10256 non-null  object \n",
      " 16  building_state    16114 non-null  object \n",
      "dtypes: float64(6), object(11)\n",
      "memory usage: 2.5+ MB\n"
     ]
    }
   ],
   "source": [
    "df.info()"
   ]
  },
  {
   "attachments": {},
   "cell_type": "markdown",
   "metadata": {},
   "source": [
    "### 1. LOCALITY"
   ]
  },
  {
   "cell_type": "code",
   "execution_count": 201,
   "metadata": {},
   "outputs": [
    {
     "name": "stdout",
     "output_type": "stream",
     "text": [
      "Analysis for column 'locality':\n",
      "Number of NaN values: 0\n",
      "Number of unique values: 2589\n",
      "Percentage of NaN values: 0.00%\n",
      "Percentage of unique values: 13.28%\n",
      "Unique values: ['Ham' 'Putte' 'IVOZ-RAMET' ... 'Louveigné' 'GrÃce-Hollogne' 'Schoonaarde']\n"
     ]
    }
   ],
   "source": [
    "analyze_column(df, 'locality')"
   ]
  },
  {
   "cell_type": "code",
   "execution_count": 202,
   "metadata": {},
   "outputs": [
    {
     "name": "stdout",
     "output_type": "stream",
     "text": [
      "<class 'pandas.core.series.Series'>\n",
      "RangeIndex: 19499 entries, 0 to 19498\n",
      "Series name: locality\n",
      "Non-Null Count  Dtype \n",
      "--------------  ----- \n",
      "19499 non-null  object\n",
      "dtypes: object(1)\n",
      "memory usage: 152.5+ KB\n"
     ]
    }
   ],
   "source": [
    "df['locality'].info()"
   ]
  },
  {
   "attachments": {},
   "cell_type": "markdown",
   "metadata": {},
   "source": [
    "### 2. Property Type "
   ]
  },
  {
   "cell_type": "code",
   "execution_count": 203,
   "metadata": {},
   "outputs": [
    {
     "name": "stdout",
     "output_type": "stream",
     "text": [
      "Analysis for column 'property_type':\n",
      "Number of NaN values: 0\n",
      "Number of unique values: 2\n",
      "Percentage of NaN values: 0.00%\n",
      "Percentage of unique values: 0.01%\n",
      "Unique values: ['HOUSE' 'APARTMENT']\n"
     ]
    }
   ],
   "source": [
    "analyze_column(df, 'property_type')"
   ]
  },
  {
   "cell_type": "code",
   "execution_count": 204,
   "metadata": {},
   "outputs": [
    {
     "name": "stdout",
     "output_type": "stream",
     "text": [
      "<class 'pandas.core.series.Series'>\n",
      "RangeIndex: 19499 entries, 0 to 19498\n",
      "Series name: property_type\n",
      "Non-Null Count  Dtype \n",
      "--------------  ----- \n",
      "19499 non-null  object\n",
      "dtypes: object(1)\n",
      "memory usage: 152.5+ KB\n"
     ]
    }
   ],
   "source": [
    "# LOOKS OK, NO NAN Values\n",
    "df['property_type'].info()"
   ]
  },
  {
   "attachments": {},
   "cell_type": "markdown",
   "metadata": {},
   "source": [
    "### 3. Property Subtype"
   ]
  },
  {
   "cell_type": "code",
   "execution_count": 198,
   "metadata": {},
   "outputs": [
    {
     "name": "stdout",
     "output_type": "stream",
     "text": [
      "Analysis for column 'property_subtype':\n",
      "Number of NaN values: 0\n",
      "Number of unique values: 23\n",
      "Percentage of NaN values: 0.00%\n",
      "Percentage of unique values: 0.12%\n",
      "Unique values: ['VILLA' 'HOUSE' 'APARTMENT_BLOCK' 'CHALET' 'COUNTRY_COTTAGE' 'APARTMENT'\n",
      " 'FLAT_STUDIO' 'MIXED_USE_BUILDING' 'EXCEPTIONAL_PROPERTY' 'TOWN_HOUSE'\n",
      " 'PENTHOUSE' 'DUPLEX' 'GROUND_FLOOR' 'MANSION' 'BUNGALOW' 'OTHER_PROPERTY'\n",
      " 'CASTLE' 'SERVICE_FLAT' 'LOFT' 'KOT' 'TRIPLEX' 'FARMHOUSE' 'MANOR_HOUSE']\n"
     ]
    }
   ],
   "source": [
    "analyze_column(df, 'property_subtype')"
   ]
  },
  {
   "cell_type": "code",
   "execution_count": 199,
   "metadata": {},
   "outputs": [
    {
     "name": "stdout",
     "output_type": "stream",
     "text": [
      "<class 'pandas.core.series.Series'>\n",
      "RangeIndex: 19499 entries, 0 to 19498\n",
      "Series name: property_subtype\n",
      "Non-Null Count  Dtype \n",
      "--------------  ----- \n",
      "19499 non-null  object\n",
      "dtypes: object(1)\n",
      "memory usage: 152.5+ KB\n"
     ]
    }
   ],
   "source": [
    "df['property_subtype'].info()"
   ]
  },
  {
   "attachments": {},
   "cell_type": "markdown",
   "metadata": {},
   "source": [
    "### 4. Number of Rooms"
   ]
  },
  {
   "cell_type": "code",
   "execution_count": null,
   "metadata": {},
   "outputs": [],
   "source": []
  },
  {
   "cell_type": "code",
   "execution_count": null,
   "metadata": {},
   "outputs": [],
   "source": []
  },
  {
   "attachments": {},
   "cell_type": "markdown",
   "metadata": {},
   "source": [
    "### 5. Living Area"
   ]
  },
  {
   "cell_type": "code",
   "execution_count": null,
   "metadata": {},
   "outputs": [],
   "source": []
  },
  {
   "attachments": {},
   "cell_type": "markdown",
   "metadata": {},
   "source": [
    "### 6. Kitchen"
   ]
  },
  {
   "attachments": {},
   "cell_type": "markdown",
   "metadata": {},
   "source": []
  },
  {
   "cell_type": "code",
   "execution_count": null,
   "metadata": {},
   "outputs": [],
   "source": []
  },
  {
   "attachments": {},
   "cell_type": "markdown",
   "metadata": {},
   "source": [
    "### 7. Furnished"
   ]
  },
  {
   "attachments": {},
   "cell_type": "markdown",
   "metadata": {},
   "source": [
    "### 8. Fireplace"
   ]
  },
  {
   "attachments": {},
   "cell_type": "markdown",
   "metadata": {},
   "source": [
    "### 9. Terrace"
   ]
  },
  {
   "attachments": {},
   "cell_type": "markdown",
   "metadata": {},
   "source": [
    "### 10. Terrace Area"
   ]
  },
  {
   "attachments": {},
   "cell_type": "markdown",
   "metadata": {},
   "source": [
    "### 11. Garden"
   ]
  },
  {
   "attachments": {},
   "cell_type": "markdown",
   "metadata": {},
   "source": [
    "### 12. Garden Area"
   ]
  },
  {
   "attachments": {},
   "cell_type": "markdown",
   "metadata": {},
   "source": [
    "### 13. Surface of the Land"
   ]
  },
  {
   "attachments": {},
   "cell_type": "markdown",
   "metadata": {},
   "source": [
    "### 14. Number of Facades"
   ]
  },
  {
   "attachments": {},
   "cell_type": "markdown",
   "metadata": {},
   "source": [
    "### 15. Swimming Pool"
   ]
  },
  {
   "attachments": {},
   "cell_type": "markdown",
   "metadata": {},
   "source": [
    "### 16. Building State"
   ]
  },
  {
   "cell_type": "code",
   "execution_count": null,
   "metadata": {},
   "outputs": [],
   "source": []
  }
 ],
 "metadata": {
  "kernelspec": {
   "display_name": "Python 3",
   "language": "python",
   "name": "python3"
  },
  "language_info": {
   "codemirror_mode": {
    "name": "ipython",
    "version": 3
   },
   "file_extension": ".py",
   "mimetype": "text/x-python",
   "name": "python",
   "nbconvert_exporter": "python",
   "pygments_lexer": "ipython3",
   "version": "3.11.2"
  },
  "orig_nbformat": 4
 },
 "nbformat": 4,
 "nbformat_minor": 2
}
