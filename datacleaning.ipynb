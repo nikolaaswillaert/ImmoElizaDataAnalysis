{
 "cells": [
  {
   "cell_type": "code",
   "execution_count": 328,
   "metadata": {},
   "outputs": [],
   "source": [
    "import pandas as pd\n",
    "import numpy as np\n",
    "import seaborn as sns\n",
    "import matplotlib.pyplot as plt"
   ]
  },
  {
   "cell_type": "code",
   "execution_count": 288,
   "metadata": {},
   "outputs": [],
   "source": [
    "df = pd.read_csv('dataframe_20k_290623.csv').drop(columns=['Unnamed: 0'])"
   ]
  },
  {
   "cell_type": "code",
   "execution_count": 289,
   "metadata": {},
   "outputs": [
    {
     "data": {
      "text/html": [
       "<div>\n",
       "<style scoped>\n",
       "    .dataframe tbody tr th:only-of-type {\n",
       "        vertical-align: middle;\n",
       "    }\n",
       "\n",
       "    .dataframe tbody tr th {\n",
       "        vertical-align: top;\n",
       "    }\n",
       "\n",
       "    .dataframe thead th {\n",
       "        text-align: right;\n",
       "    }\n",
       "</style>\n",
       "<table border=\"1\" class=\"dataframe\">\n",
       "  <thead>\n",
       "    <tr style=\"text-align: right;\">\n",
       "      <th></th>\n",
       "      <th>locality</th>\n",
       "      <th>type of property</th>\n",
       "      <th>subtype of property</th>\n",
       "      <th>price</th>\n",
       "      <th>number_rooms</th>\n",
       "      <th>living_area</th>\n",
       "      <th>kitchen</th>\n",
       "      <th>furnished</th>\n",
       "      <th>fireplace</th>\n",
       "      <th>terrace</th>\n",
       "      <th>terrace_area</th>\n",
       "      <th>garden</th>\n",
       "      <th>garden_area</th>\n",
       "      <th>surface_land</th>\n",
       "      <th>number_facades</th>\n",
       "      <th>swimming_pool</th>\n",
       "      <th>building_state</th>\n",
       "    </tr>\n",
       "  </thead>\n",
       "  <tbody>\n",
       "    <tr>\n",
       "      <th>0</th>\n",
       "      <td>Ham</td>\n",
       "      <td>HOUSE</td>\n",
       "      <td>VILLA</td>\n",
       "      <td>429500.0</td>\n",
       "      <td>4.0</td>\n",
       "      <td>215.0</td>\n",
       "      <td>INSTALLED</td>\n",
       "      <td>NaN</td>\n",
       "      <td>-1.0</td>\n",
       "      <td>NaN</td>\n",
       "      <td>NaN</td>\n",
       "      <td>True</td>\n",
       "      <td>NaN</td>\n",
       "      <td>1472</td>\n",
       "      <td>4</td>\n",
       "      <td>NaN</td>\n",
       "      <td>GOOD</td>\n",
       "    </tr>\n",
       "    <tr>\n",
       "      <th>1</th>\n",
       "      <td>Putte</td>\n",
       "      <td>HOUSE</td>\n",
       "      <td>HOUSE</td>\n",
       "      <td>599000.0</td>\n",
       "      <td>5.0</td>\n",
       "      <td>167.0</td>\n",
       "      <td>INSTALLED</td>\n",
       "      <td>NaN</td>\n",
       "      <td>-1.0</td>\n",
       "      <td>True</td>\n",
       "      <td>NaN</td>\n",
       "      <td>True</td>\n",
       "      <td>95.0</td>\n",
       "      <td>416</td>\n",
       "      <td>4</td>\n",
       "      <td>NaN</td>\n",
       "      <td>JUST_RENOVATED</td>\n",
       "    </tr>\n",
       "    <tr>\n",
       "      <th>2</th>\n",
       "      <td>IVOZ-RAMET</td>\n",
       "      <td>HOUSE</td>\n",
       "      <td>HOUSE</td>\n",
       "      <td>20000.0</td>\n",
       "      <td>3.0</td>\n",
       "      <td>130.0</td>\n",
       "      <td>INSTALLED</td>\n",
       "      <td>NaN</td>\n",
       "      <td>-1.0</td>\n",
       "      <td>True</td>\n",
       "      <td>NaN</td>\n",
       "      <td>NaN</td>\n",
       "      <td>NaN</td>\n",
       "      <td>182</td>\n",
       "      <td>3</td>\n",
       "      <td>NaN</td>\n",
       "      <td>GOOD</td>\n",
       "    </tr>\n",
       "    <tr>\n",
       "      <th>3</th>\n",
       "      <td>Herstal</td>\n",
       "      <td>HOUSE</td>\n",
       "      <td>HOUSE</td>\n",
       "      <td>45000.0</td>\n",
       "      <td>2.0</td>\n",
       "      <td>120.0</td>\n",
       "      <td>USA_INSTALLED</td>\n",
       "      <td>True</td>\n",
       "      <td>NaN</td>\n",
       "      <td>True</td>\n",
       "      <td>12.0</td>\n",
       "      <td>True</td>\n",
       "      <td>80.0</td>\n",
       "      <td>221</td>\n",
       "      <td>2</td>\n",
       "      <td>False</td>\n",
       "      <td>TO_BE_DONE_UP</td>\n",
       "    </tr>\n",
       "    <tr>\n",
       "      <th>4</th>\n",
       "      <td>Liege</td>\n",
       "      <td>HOUSE</td>\n",
       "      <td>HOUSE</td>\n",
       "      <td>109000.0</td>\n",
       "      <td>2.0</td>\n",
       "      <td>62.0</td>\n",
       "      <td>SEMI_EQUIPPED</td>\n",
       "      <td>False</td>\n",
       "      <td>NaN</td>\n",
       "      <td>NaN</td>\n",
       "      <td>NaN</td>\n",
       "      <td>NaN</td>\n",
       "      <td>NaN</td>\n",
       "      <td>45</td>\n",
       "      <td>2</td>\n",
       "      <td>False</td>\n",
       "      <td>TO_BE_DONE_UP</td>\n",
       "    </tr>\n",
       "  </tbody>\n",
       "</table>\n",
       "</div>"
      ],
      "text/plain": [
       "     locality type of property subtype of property     price  number_rooms  \\\n",
       "0         Ham            HOUSE               VILLA  429500.0           4.0   \n",
       "1       Putte            HOUSE               HOUSE  599000.0           5.0   \n",
       "2  IVOZ-RAMET            HOUSE               HOUSE   20000.0           3.0   \n",
       "3     Herstal            HOUSE               HOUSE   45000.0           2.0   \n",
       "4       Liege            HOUSE               HOUSE  109000.0           2.0   \n",
       "\n",
       "   living_area        kitchen furnished  fireplace terrace  terrace_area  \\\n",
       "0        215.0      INSTALLED       NaN       -1.0     NaN           NaN   \n",
       "1        167.0      INSTALLED       NaN       -1.0    True           NaN   \n",
       "2        130.0      INSTALLED       NaN       -1.0    True           NaN   \n",
       "3        120.0  USA_INSTALLED      True        NaN    True          12.0   \n",
       "4         62.0  SEMI_EQUIPPED     False        NaN     NaN           NaN   \n",
       "\n",
       "  garden  garden_area surface_land number_facades swimming_pool  \\\n",
       "0   True          NaN         1472              4           NaN   \n",
       "1   True         95.0          416              4           NaN   \n",
       "2    NaN          NaN          182              3           NaN   \n",
       "3   True         80.0          221              2         False   \n",
       "4    NaN          NaN           45              2         False   \n",
       "\n",
       "   building_state  \n",
       "0            GOOD  \n",
       "1  JUST_RENOVATED  \n",
       "2            GOOD  \n",
       "3   TO_BE_DONE_UP  \n",
       "4   TO_BE_DONE_UP  "
      ]
     },
     "execution_count": 289,
     "metadata": {},
     "output_type": "execute_result"
    }
   ],
   "source": [
    "df.head()"
   ]
  },
  {
   "cell_type": "code",
   "execution_count": 290,
   "metadata": {},
   "outputs": [
    {
     "data": {
      "text/html": [
       "<div>\n",
       "<style scoped>\n",
       "    .dataframe tbody tr th:only-of-type {\n",
       "        vertical-align: middle;\n",
       "    }\n",
       "\n",
       "    .dataframe tbody tr th {\n",
       "        vertical-align: top;\n",
       "    }\n",
       "\n",
       "    .dataframe thead th {\n",
       "        text-align: right;\n",
       "    }\n",
       "</style>\n",
       "<table border=\"1\" class=\"dataframe\">\n",
       "  <thead>\n",
       "    <tr style=\"text-align: right;\">\n",
       "      <th></th>\n",
       "      <th>locality</th>\n",
       "      <th>property_type</th>\n",
       "      <th>property_subtype</th>\n",
       "      <th>price</th>\n",
       "      <th>number_rooms</th>\n",
       "      <th>living_area</th>\n",
       "      <th>kitchen</th>\n",
       "      <th>furnished</th>\n",
       "      <th>fireplace</th>\n",
       "      <th>terrace</th>\n",
       "      <th>terrace_area</th>\n",
       "      <th>garden</th>\n",
       "      <th>garden_area</th>\n",
       "      <th>surface_land</th>\n",
       "      <th>number_facades</th>\n",
       "      <th>swimming_pool</th>\n",
       "      <th>building_state</th>\n",
       "    </tr>\n",
       "  </thead>\n",
       "  <tbody>\n",
       "    <tr>\n",
       "      <th>0</th>\n",
       "      <td>Ham</td>\n",
       "      <td>HOUSE</td>\n",
       "      <td>VILLA</td>\n",
       "      <td>429500.0</td>\n",
       "      <td>4.0</td>\n",
       "      <td>215.0</td>\n",
       "      <td>INSTALLED</td>\n",
       "      <td>NaN</td>\n",
       "      <td>-1.0</td>\n",
       "      <td>NaN</td>\n",
       "      <td>NaN</td>\n",
       "      <td>True</td>\n",
       "      <td>NaN</td>\n",
       "      <td>1472</td>\n",
       "      <td>4</td>\n",
       "      <td>NaN</td>\n",
       "      <td>GOOD</td>\n",
       "    </tr>\n",
       "    <tr>\n",
       "      <th>1</th>\n",
       "      <td>Putte</td>\n",
       "      <td>HOUSE</td>\n",
       "      <td>HOUSE</td>\n",
       "      <td>599000.0</td>\n",
       "      <td>5.0</td>\n",
       "      <td>167.0</td>\n",
       "      <td>INSTALLED</td>\n",
       "      <td>NaN</td>\n",
       "      <td>-1.0</td>\n",
       "      <td>True</td>\n",
       "      <td>NaN</td>\n",
       "      <td>True</td>\n",
       "      <td>95.0</td>\n",
       "      <td>416</td>\n",
       "      <td>4</td>\n",
       "      <td>NaN</td>\n",
       "      <td>JUST_RENOVATED</td>\n",
       "    </tr>\n",
       "    <tr>\n",
       "      <th>2</th>\n",
       "      <td>IVOZ-RAMET</td>\n",
       "      <td>HOUSE</td>\n",
       "      <td>HOUSE</td>\n",
       "      <td>20000.0</td>\n",
       "      <td>3.0</td>\n",
       "      <td>130.0</td>\n",
       "      <td>INSTALLED</td>\n",
       "      <td>NaN</td>\n",
       "      <td>-1.0</td>\n",
       "      <td>True</td>\n",
       "      <td>NaN</td>\n",
       "      <td>NaN</td>\n",
       "      <td>NaN</td>\n",
       "      <td>182</td>\n",
       "      <td>3</td>\n",
       "      <td>NaN</td>\n",
       "      <td>GOOD</td>\n",
       "    </tr>\n",
       "    <tr>\n",
       "      <th>3</th>\n",
       "      <td>Herstal</td>\n",
       "      <td>HOUSE</td>\n",
       "      <td>HOUSE</td>\n",
       "      <td>45000.0</td>\n",
       "      <td>2.0</td>\n",
       "      <td>120.0</td>\n",
       "      <td>USA_INSTALLED</td>\n",
       "      <td>True</td>\n",
       "      <td>NaN</td>\n",
       "      <td>True</td>\n",
       "      <td>12.0</td>\n",
       "      <td>True</td>\n",
       "      <td>80.0</td>\n",
       "      <td>221</td>\n",
       "      <td>2</td>\n",
       "      <td>False</td>\n",
       "      <td>TO_BE_DONE_UP</td>\n",
       "    </tr>\n",
       "    <tr>\n",
       "      <th>4</th>\n",
       "      <td>Liege</td>\n",
       "      <td>HOUSE</td>\n",
       "      <td>HOUSE</td>\n",
       "      <td>109000.0</td>\n",
       "      <td>2.0</td>\n",
       "      <td>62.0</td>\n",
       "      <td>SEMI_EQUIPPED</td>\n",
       "      <td>False</td>\n",
       "      <td>NaN</td>\n",
       "      <td>NaN</td>\n",
       "      <td>NaN</td>\n",
       "      <td>NaN</td>\n",
       "      <td>NaN</td>\n",
       "      <td>45</td>\n",
       "      <td>2</td>\n",
       "      <td>False</td>\n",
       "      <td>TO_BE_DONE_UP</td>\n",
       "    </tr>\n",
       "  </tbody>\n",
       "</table>\n",
       "</div>"
      ],
      "text/plain": [
       "     locality property_type property_subtype     price  number_rooms  \\\n",
       "0         Ham         HOUSE            VILLA  429500.0           4.0   \n",
       "1       Putte         HOUSE            HOUSE  599000.0           5.0   \n",
       "2  IVOZ-RAMET         HOUSE            HOUSE   20000.0           3.0   \n",
       "3     Herstal         HOUSE            HOUSE   45000.0           2.0   \n",
       "4       Liege         HOUSE            HOUSE  109000.0           2.0   \n",
       "\n",
       "   living_area        kitchen furnished  fireplace terrace  terrace_area  \\\n",
       "0        215.0      INSTALLED       NaN       -1.0     NaN           NaN   \n",
       "1        167.0      INSTALLED       NaN       -1.0    True           NaN   \n",
       "2        130.0      INSTALLED       NaN       -1.0    True           NaN   \n",
       "3        120.0  USA_INSTALLED      True        NaN    True          12.0   \n",
       "4         62.0  SEMI_EQUIPPED     False        NaN     NaN           NaN   \n",
       "\n",
       "  garden  garden_area surface_land number_facades swimming_pool  \\\n",
       "0   True          NaN         1472              4           NaN   \n",
       "1   True         95.0          416              4           NaN   \n",
       "2    NaN          NaN          182              3           NaN   \n",
       "3   True         80.0          221              2         False   \n",
       "4    NaN          NaN           45              2         False   \n",
       "\n",
       "   building_state  \n",
       "0            GOOD  \n",
       "1  JUST_RENOVATED  \n",
       "2            GOOD  \n",
       "3   TO_BE_DONE_UP  \n",
       "4   TO_BE_DONE_UP  "
      ]
     },
     "execution_count": 290,
     "metadata": {},
     "output_type": "execute_result"
    }
   ],
   "source": [
    "df.rename(columns = {'type of property':'property_type', 'subtype of property':'property_subtype'}, inplace = True)\n",
    "df.head()"
   ]
  },
  {
   "cell_type": "code",
   "execution_count": 291,
   "metadata": {},
   "outputs": [
    {
     "name": "stdout",
     "output_type": "stream",
     "text": [
      "<class 'pandas.core.frame.DataFrame'>\n",
      "RangeIndex: 19980 entries, 0 to 19979\n",
      "Data columns (total 17 columns):\n",
      " #   Column            Non-Null Count  Dtype  \n",
      "---  ------            --------------  -----  \n",
      " 0   locality          19974 non-null  object \n",
      " 1   property_type     19974 non-null  object \n",
      " 2   property_subtype  19974 non-null  object \n",
      " 3   price             19499 non-null  float64\n",
      " 4   number_rooms      19499 non-null  float64\n",
      " 5   living_area       18445 non-null  float64\n",
      " 6   kitchen           18077 non-null  object \n",
      " 7   furnished         9815 non-null   object \n",
      " 8   fireplace         6176 non-null   float64\n",
      " 9   terrace           12887 non-null  object \n",
      " 10  terrace_area      7391 non-null   float64\n",
      " 11  garden            9078 non-null   object \n",
      " 12  garden_area       5916 non-null   float64\n",
      " 13  surface_land      18209 non-null  object \n",
      " 14  number_facades    16438 non-null  object \n",
      " 15  swimming_pool     10256 non-null  object \n",
      " 16  building_state    16589 non-null  object \n",
      "dtypes: float64(6), object(11)\n",
      "memory usage: 2.6+ MB\n"
     ]
    }
   ],
   "source": [
    "df.info()"
   ]
  },
  {
   "cell_type": "code",
   "execution_count": 292,
   "metadata": {},
   "outputs": [
    {
     "name": "stdout",
     "output_type": "stream",
     "text": [
      "<class 'pandas.core.frame.DataFrame'>\n",
      "RangeIndex: 19980 entries, 0 to 19979\n",
      "Data columns (total 17 columns):\n",
      " #   Column            Non-Null Count  Dtype  \n",
      "---  ------            --------------  -----  \n",
      " 0   locality          19974 non-null  object \n",
      " 1   property_type     19974 non-null  object \n",
      " 2   property_subtype  19974 non-null  object \n",
      " 3   price             19499 non-null  float64\n",
      " 4   number_rooms      19499 non-null  float64\n",
      " 5   living_area       18445 non-null  float64\n",
      " 6   kitchen           18077 non-null  object \n",
      " 7   furnished         9815 non-null   object \n",
      " 8   fireplace         6176 non-null   float64\n",
      " 9   terrace           12887 non-null  object \n",
      " 10  terrace_area      7391 non-null   float64\n",
      " 11  garden            9078 non-null   object \n",
      " 12  garden_area       5916 non-null   float64\n",
      " 13  surface_land      18209 non-null  object \n",
      " 14  number_facades    16438 non-null  object \n",
      " 15  swimming_pool     10256 non-null  object \n",
      " 16  building_state    16589 non-null  object \n",
      "dtypes: float64(6), object(11)\n",
      "memory usage: 2.6+ MB\n"
     ]
    }
   ],
   "source": [
    "df.drop_duplicates()\n",
    "df.info()"
   ]
  },
  {
   "cell_type": "code",
   "execution_count": 293,
   "metadata": {},
   "outputs": [],
   "source": [
    "def analyze_column(df, column_name):\n",
    "    column = df[column_name]\n",
    "    num_nan = column.isnull().sum()\n",
    "    num_unique = column.nunique()\n",
    "    unique_values = column.unique()\n",
    "    percentage_nan = (num_nan / len(column)) * 100\n",
    "    percentage_unique = (num_unique / len(column)) * 100\n",
    "    print(f\"Analysis for column '{column_name}':\")\n",
    "    print(f\"Number of NaN values: {num_nan}\")\n",
    "    print(f\"Number of unique values: {num_unique}\")\n",
    "    print(f\"Percentage of NaN values: {percentage_nan:.2f}%\")\n",
    "    print(f\"Percentage of unique values: {percentage_unique:.2f}%\")\n",
    "    print(f\"Unique values: {unique_values}\")"
   ]
  },
  {
   "cell_type": "code",
   "execution_count": 294,
   "metadata": {},
   "outputs": [],
   "source": [
    "df = df.dropna(how='all')"
   ]
  },
  {
   "attachments": {},
   "cell_type": "markdown",
   "metadata": {},
   "source": [
    "### 0. PRICE"
   ]
  },
  {
   "cell_type": "code",
   "execution_count": 295,
   "metadata": {},
   "outputs": [],
   "source": [
    "# If we dont have a price - Delete the rows - not useable to predict pricing!"
   ]
  },
  {
   "cell_type": "code",
   "execution_count": 296,
   "metadata": {},
   "outputs": [
    {
     "name": "stdout",
     "output_type": "stream",
     "text": [
      "<class 'pandas.core.series.Series'>\n",
      "Index: 19974 entries, 0 to 19979\n",
      "Series name: price\n",
      "Non-Null Count  Dtype  \n",
      "--------------  -----  \n",
      "19499 non-null  float64\n",
      "dtypes: float64(1)\n",
      "memory usage: 312.1 KB\n",
      "<class 'pandas.core.series.Series'>\n",
      "Index: 19974 entries, 0 to 19979\n",
      "Series name: price\n",
      "Non-Null Count  Dtype  \n",
      "--------------  -----  \n",
      "19499 non-null  float64\n",
      "dtypes: float64(1)\n",
      "memory usage: 312.1 KB\n"
     ]
    }
   ],
   "source": [
    "# This will be what we will need to predict\n",
    "df['price'].info()\n",
    "df.price.info()"
   ]
  },
  {
   "cell_type": "code",
   "execution_count": 325,
   "metadata": {},
   "outputs": [
    {
     "name": "stdout",
     "output_type": "stream",
     "text": [
      "Analysis for column 'price':\n",
      "Number of NaN values: 0\n",
      "Number of unique values: 1624\n",
      "Percentage of NaN values: 0.00%\n",
      "Percentage of unique values: 8.33%\n",
      "Unique values: [429500. 599000.  20000. ... 381500. 351000. 176000.]\n"
     ]
    }
   ],
   "source": [
    "# We have 475 rows with NaN as price - 2.38% of the total\n",
    "analyze_column(df, 'price')"
   ]
  },
  {
   "cell_type": "code",
   "execution_count": 326,
   "metadata": {},
   "outputs": [
    {
     "data": {
      "text/html": [
       "<div>\n",
       "<style scoped>\n",
       "    .dataframe tbody tr th:only-of-type {\n",
       "        vertical-align: middle;\n",
       "    }\n",
       "\n",
       "    .dataframe tbody tr th {\n",
       "        vertical-align: top;\n",
       "    }\n",
       "\n",
       "    .dataframe thead th {\n",
       "        text-align: right;\n",
       "    }\n",
       "</style>\n",
       "<table border=\"1\" class=\"dataframe\">\n",
       "  <thead>\n",
       "    <tr style=\"text-align: right;\">\n",
       "      <th></th>\n",
       "      <th>locality</th>\n",
       "      <th>property_type</th>\n",
       "      <th>property_subtype</th>\n",
       "      <th>price</th>\n",
       "      <th>number_rooms</th>\n",
       "      <th>living_area</th>\n",
       "      <th>kitchen</th>\n",
       "      <th>furnished</th>\n",
       "      <th>fireplace</th>\n",
       "      <th>terrace</th>\n",
       "      <th>terrace_area</th>\n",
       "      <th>garden</th>\n",
       "      <th>garden_area</th>\n",
       "      <th>surface_land</th>\n",
       "      <th>number_facades</th>\n",
       "      <th>swimming_pool</th>\n",
       "      <th>building_state</th>\n",
       "    </tr>\n",
       "  </thead>\n",
       "  <tbody>\n",
       "  </tbody>\n",
       "</table>\n",
       "</div>"
      ],
      "text/plain": [
       "Empty DataFrame\n",
       "Columns: [locality, property_type, property_subtype, price, number_rooms, living_area, kitchen, furnished, fireplace, terrace, terrace_area, garden, garden_area, surface_land, number_facades, swimming_pool, building_state]\n",
       "Index: []"
      ]
     },
     "execution_count": 326,
     "metadata": {},
     "output_type": "execute_result"
    }
   ],
   "source": [
    "df[df['price'].isna()]\n",
    "# Most values are not Filled in (NaN) so I decide to drop all of these 475 rows"
   ]
  },
  {
   "cell_type": "code",
   "execution_count": 299,
   "metadata": {},
   "outputs": [],
   "source": [
    "df = df.dropna(subset=['price'])"
   ]
  },
  {
   "cell_type": "code",
   "execution_count": 300,
   "metadata": {},
   "outputs": [
    {
     "data": {
      "text/html": [
       "<div>\n",
       "<style scoped>\n",
       "    .dataframe tbody tr th:only-of-type {\n",
       "        vertical-align: middle;\n",
       "    }\n",
       "\n",
       "    .dataframe tbody tr th {\n",
       "        vertical-align: top;\n",
       "    }\n",
       "\n",
       "    .dataframe thead th {\n",
       "        text-align: right;\n",
       "    }\n",
       "</style>\n",
       "<table border=\"1\" class=\"dataframe\">\n",
       "  <thead>\n",
       "    <tr style=\"text-align: right;\">\n",
       "      <th></th>\n",
       "      <th>locality</th>\n",
       "      <th>property_type</th>\n",
       "      <th>property_subtype</th>\n",
       "      <th>price</th>\n",
       "      <th>number_rooms</th>\n",
       "      <th>living_area</th>\n",
       "      <th>kitchen</th>\n",
       "      <th>furnished</th>\n",
       "      <th>fireplace</th>\n",
       "      <th>terrace</th>\n",
       "      <th>terrace_area</th>\n",
       "      <th>garden</th>\n",
       "      <th>garden_area</th>\n",
       "      <th>surface_land</th>\n",
       "      <th>number_facades</th>\n",
       "      <th>swimming_pool</th>\n",
       "      <th>building_state</th>\n",
       "    </tr>\n",
       "  </thead>\n",
       "  <tbody>\n",
       "  </tbody>\n",
       "</table>\n",
       "</div>"
      ],
      "text/plain": [
       "Empty DataFrame\n",
       "Columns: [locality, property_type, property_subtype, price, number_rooms, living_area, kitchen, furnished, fireplace, terrace, terrace_area, garden, garden_area, surface_land, number_facades, swimming_pool, building_state]\n",
       "Index: []"
      ]
     },
     "execution_count": 300,
     "metadata": {},
     "output_type": "execute_result"
    }
   ],
   "source": [
    "df[df['price'].isna()]\n",
    "# ALL NaN Values are dropped"
   ]
  },
  {
   "cell_type": "code",
   "execution_count": 301,
   "metadata": {},
   "outputs": [
    {
     "name": "stdout",
     "output_type": "stream",
     "text": [
      "<class 'pandas.core.frame.DataFrame'>\n",
      "Index: 19499 entries, 0 to 19979\n",
      "Data columns (total 17 columns):\n",
      " #   Column            Non-Null Count  Dtype  \n",
      "---  ------            --------------  -----  \n",
      " 0   locality          19499 non-null  object \n",
      " 1   property_type     19499 non-null  object \n",
      " 2   property_subtype  19499 non-null  object \n",
      " 3   price             19499 non-null  float64\n",
      " 4   number_rooms      19499 non-null  float64\n",
      " 5   living_area       18445 non-null  float64\n",
      " 6   kitchen           17602 non-null  object \n",
      " 7   furnished         9756 non-null   object \n",
      " 8   fireplace         6176 non-null   float64\n",
      " 9   terrace           12887 non-null  object \n",
      " 10  terrace_area      7391 non-null   float64\n",
      " 11  garden            9078 non-null   object \n",
      " 12  garden_area       5916 non-null   float64\n",
      " 13  surface_land      17734 non-null  object \n",
      " 14  number_facades    15963 non-null  object \n",
      " 15  swimming_pool     10256 non-null  object \n",
      " 16  building_state    16114 non-null  object \n",
      "dtypes: float64(6), object(11)\n",
      "memory usage: 2.7+ MB\n"
     ]
    }
   ],
   "source": [
    "df.info()"
   ]
  },
  {
   "cell_type": "code",
   "execution_count": 302,
   "metadata": {},
   "outputs": [],
   "source": [
    "# Resetting index to have nice looking dataframe\n",
    "df.reset_index(inplace=True, drop=True)"
   ]
  },
  {
   "cell_type": "code",
   "execution_count": 303,
   "metadata": {},
   "outputs": [
    {
     "name": "stdout",
     "output_type": "stream",
     "text": [
      "<class 'pandas.core.frame.DataFrame'>\n",
      "RangeIndex: 19499 entries, 0 to 19498\n",
      "Data columns (total 17 columns):\n",
      " #   Column            Non-Null Count  Dtype  \n",
      "---  ------            --------------  -----  \n",
      " 0   locality          19499 non-null  object \n",
      " 1   property_type     19499 non-null  object \n",
      " 2   property_subtype  19499 non-null  object \n",
      " 3   price             19499 non-null  float64\n",
      " 4   number_rooms      19499 non-null  float64\n",
      " 5   living_area       18445 non-null  float64\n",
      " 6   kitchen           17602 non-null  object \n",
      " 7   furnished         9756 non-null   object \n",
      " 8   fireplace         6176 non-null   float64\n",
      " 9   terrace           12887 non-null  object \n",
      " 10  terrace_area      7391 non-null   float64\n",
      " 11  garden            9078 non-null   object \n",
      " 12  garden_area       5916 non-null   float64\n",
      " 13  surface_land      17734 non-null  object \n",
      " 14  number_facades    15963 non-null  object \n",
      " 15  swimming_pool     10256 non-null  object \n",
      " 16  building_state    16114 non-null  object \n",
      "dtypes: float64(6), object(11)\n",
      "memory usage: 2.5+ MB\n"
     ]
    }
   ],
   "source": [
    "df.info()"
   ]
  },
  {
   "attachments": {},
   "cell_type": "markdown",
   "metadata": {},
   "source": [
    "### 1. LOCALITY"
   ]
  },
  {
   "cell_type": "code",
   "execution_count": 304,
   "metadata": {},
   "outputs": [
    {
     "name": "stdout",
     "output_type": "stream",
     "text": [
      "Analysis for column 'locality':\n",
      "Number of NaN values: 0\n",
      "Number of unique values: 2589\n",
      "Percentage of NaN values: 0.00%\n",
      "Percentage of unique values: 13.28%\n",
      "Unique values: ['Ham' 'Putte' 'IVOZ-RAMET' ... 'Louveigné' 'GrÃce-Hollogne' 'Schoonaarde']\n"
     ]
    }
   ],
   "source": [
    "# LOOK TO MAKE THIS A GEO COORDINATION\n",
    "analyze_column(df, 'locality')"
   ]
  },
  {
   "cell_type": "code",
   "execution_count": 305,
   "metadata": {},
   "outputs": [
    {
     "name": "stdout",
     "output_type": "stream",
     "text": [
      "<class 'pandas.core.series.Series'>\n",
      "RangeIndex: 19499 entries, 0 to 19498\n",
      "Series name: locality\n",
      "Non-Null Count  Dtype \n",
      "--------------  ----- \n",
      "19499 non-null  object\n",
      "dtypes: object(1)\n",
      "memory usage: 152.5+ KB\n"
     ]
    }
   ],
   "source": [
    "df['locality'].info()"
   ]
  },
  {
   "attachments": {},
   "cell_type": "markdown",
   "metadata": {},
   "source": [
    "### 2. Property Type "
   ]
  },
  {
   "cell_type": "code",
   "execution_count": 306,
   "metadata": {},
   "outputs": [
    {
     "name": "stdout",
     "output_type": "stream",
     "text": [
      "Analysis for column 'property_type':\n",
      "Number of NaN values: 0\n",
      "Number of unique values: 2\n",
      "Percentage of NaN values: 0.00%\n",
      "Percentage of unique values: 0.01%\n",
      "Unique values: ['HOUSE' 'APARTMENT']\n"
     ]
    }
   ],
   "source": [
    "analyze_column(df, 'property_type')"
   ]
  },
  {
   "cell_type": "code",
   "execution_count": 327,
   "metadata": {},
   "outputs": [
    {
     "name": "stdout",
     "output_type": "stream",
     "text": [
      "<class 'pandas.core.series.Series'>\n",
      "RangeIndex: 19499 entries, 0 to 19498\n",
      "Series name: property_type\n",
      "Non-Null Count  Dtype \n",
      "--------------  ----- \n",
      "19499 non-null  object\n",
      "dtypes: object(1)\n",
      "memory usage: 152.5+ KB\n"
     ]
    }
   ],
   "source": [
    "# LOOKS OK, NO NAN Values\n",
    "df['property_type'].info()"
   ]
  },
  {
   "cell_type": "code",
   "execution_count": 333,
   "metadata": {},
   "outputs": [
    {
     "data": {
      "image/png": "[encoded data removed]",
      "text/plain": [
       "<Figure size 640x480 with 1 Axes>"
      ]
     },
     "metadata": {},
     "output_type": "display_data"
    }
   ],
   "source": [
    "sns.barplot(x=\"property_type\", y=\"price\", data=df)\n",
    "\n",
    "# Set labels and title\n",
    "plt.xlabel(\"Property Subtype\")\n",
    "plt.ylabel(\"Price (in euro)\")\n",
    "plt.title(\"Property type vs. Price\")\n",
    "# Show the plot\n",
    "plt.show()"
   ]
  },
  {
   "attachments": {},
   "cell_type": "markdown",
   "metadata": {},
   "source": [
    "### 3. Property Subtype"
   ]
  },
  {
   "cell_type": "code",
   "execution_count": 308,
   "metadata": {},
   "outputs": [
    {
     "name": "stdout",
     "output_type": "stream",
     "text": [
      "Analysis for column 'property_subtype':\n",
      "Number of NaN values: 0\n",
      "Number of unique values: 23\n",
      "Percentage of NaN values: 0.00%\n",
      "Percentage of unique values: 0.12%\n",
      "Unique values: ['VILLA' 'HOUSE' 'APARTMENT_BLOCK' 'CHALET' 'COUNTRY_COTTAGE' 'APARTMENT'\n",
      " 'FLAT_STUDIO' 'MIXED_USE_BUILDING' 'EXCEPTIONAL_PROPERTY' 'TOWN_HOUSE'\n",
      " 'PENTHOUSE' 'DUPLEX' 'GROUND_FLOOR' 'MANSION' 'BUNGALOW' 'OTHER_PROPERTY'\n",
      " 'CASTLE' 'SERVICE_FLAT' 'LOFT' 'KOT' 'TRIPLEX' 'FARMHOUSE' 'MANOR_HOUSE']\n"
     ]
    }
   ],
   "source": [
    "analyze_column(df, 'property_subtype')"
   ]
  },
  {
   "cell_type": "code",
   "execution_count": 334,
   "metadata": {},
   "outputs": [
    {
     "name": "stdout",
     "output_type": "stream",
     "text": [
      "<class 'pandas.core.series.Series'>\n",
      "RangeIndex: 19499 entries, 0 to 19498\n",
      "Series name: property_subtype\n",
      "Non-Null Count  Dtype \n",
      "--------------  ----- \n",
      "19499 non-null  object\n",
      "dtypes: object(1)\n",
      "memory usage: 152.5+ KB\n"
     ]
    }
   ],
   "source": [
    "df['property_subtype'].info()"
   ]
  },
  {
   "cell_type": "code",
   "execution_count": 345,
   "metadata": {},
   "outputs": [
    {
     "data": {
      "image/png": "[encoded data removed]",
      "text/plain": [
       "<Figure size 640x480 with 1 Axes>"
      ]
     },
     "metadata": {},
     "output_type": "display_data"
    }
   ],
   "source": [
    "df_sorted = df.sort_values(by='price', ascending=True)\n",
    "sns.barplot(x=\"property_subtype\", y=\"price\", data=df_sorted)\n",
    "# Set labels and title\n",
    "plt.xlabel(\"Property Subtype\")\n",
    "plt.ylabel(\"Price (in euro)\")\n",
    "plt.title(\"Property subtype vs. Price\")\n",
    "plt.xticks(rotation=85)\n",
    "# Show the plot\n",
    "plt.show()"
   ]
  },
  {
   "attachments": {},
   "cell_type": "markdown",
   "metadata": {},
   "source": [
    "### 4. Number of Rooms"
   ]
  },
  {
   "cell_type": "code",
   "execution_count": 310,
   "metadata": {},
   "outputs": [
    {
     "name": "stdout",
     "output_type": "stream",
     "text": [
      "Analysis for column 'number_rooms':\n",
      "Number of NaN values: 0\n",
      "Number of unique values: 29\n",
      "Percentage of NaN values: 0.00%\n",
      "Percentage of unique values: 0.15%\n",
      "Unique values: [ 4.  5.  3.  2.  1.  0.  6.  7. 25. 17. 10. 12.  8.  9. 11. 27. 14. 21.\n",
      " 13. 16. 30. 15. 18. 46. 24. 19. 22. 60. 20.]\n"
     ]
    }
   ],
   "source": [
    "analyze_column(df, 'number_rooms')"
   ]
  },
  {
   "cell_type": "code",
   "execution_count": 311,
   "metadata": {},
   "outputs": [
    {
     "name": "stdout",
     "output_type": "stream",
     "text": [
      "<class 'pandas.core.series.Series'>\n",
      "RangeIndex: 19499 entries, 0 to 19498\n",
      "Series name: number_rooms\n",
      "Non-Null Count  Dtype  \n",
      "--------------  -----  \n",
      "19499 non-null  float64\n",
      "dtypes: float64(1)\n",
      "memory usage: 152.5 KB\n"
     ]
    }
   ],
   "source": [
    "df['number_rooms'].info()"
   ]
  },
  {
   "attachments": {},
   "cell_type": "markdown",
   "metadata": {},
   "source": [
    "### 5. Living Area"
   ]
  },
  {
   "cell_type": "code",
   "execution_count": 312,
   "metadata": {},
   "outputs": [
    {
     "name": "stdout",
     "output_type": "stream",
     "text": [
      "Analysis for column 'living_area':\n",
      "Number of NaN values: 1054\n",
      "Number of unique values: 725\n",
      "Percentage of NaN values: 5.41%\n",
      "Percentage of unique values: 3.72%\n",
      "Unique values: [2.1500e+02 1.6700e+02 1.3000e+02 1.2000e+02 6.2000e+01 8.0000e+01\n",
      " 1.7500e+02 9.0000e+01 4.4000e+01 1.4000e+02 1.0800e+02 6.6000e+01\n",
      " 1.4600e+02 1.3500e+02 1.1000e+02 1.6400e+02 1.6800e+02 1.2500e+02\n",
      " 2.1600e+02 1.6000e+02 1.0000e+02 8.1000e+01 1.8000e+02 1.8100e+02\n",
      " 9.4000e+01 1.7100e+02 1.2200e+02 1.0400e+02 2.2900e+02 5.2600e+02\n",
      " 1.0500e+02 9.5000e+01 2.5400e+02 1.6600e+02 3.7500e+02        nan\n",
      " 2.2000e+02 1.4800e+02 8.5000e+01 9.9000e+01 2.4000e+02 3.6000e+01\n",
      " 1.0600e+02 7.2000e+01 8.7000e+01 8.9000e+01 1.0300e+02 1.4500e+02\n",
      " 2.5800e+02 2.5000e+02 3.2000e+02 2.5100e+02 2.1000e+02 2.8600e+02\n",
      " 1.9000e+02 2.0000e+02 1.5500e+02 4.0500e+02 1.8800e+02 2.5300e+02\n",
      " 2.7000e+02 7.6000e+01 1.0200e+02 2.2000e+01 3.9200e+02 1.3400e+02\n",
      " 8.4000e+01 3.8800e+02 6.0000e+01 3.1100e+02 1.6100e+02 9.1000e+01\n",
      " 5.7000e+01 1.8500e+02 1.8600e+02 1.8700e+02 1.1700e+02 1.5200e+02\n",
      " 5.4000e+01 1.4700e+02 1.3900e+02 3.4500e+02 7.0000e+01 2.9100e+02\n",
      " 1.1800e+02 2.1200e+02 2.0500e+02 4.7600e+02 2.3000e+02 3.4100e+02\n",
      " 1.7900e+02 2.6000e+02 1.7600e+02 1.1600e+02 2.8100e+02 4.0700e+02\n",
      " 1.7000e+02 2.3200e+02 2.0300e+02 1.5100e+02 3.9600e+02 2.8000e+01\n",
      " 7.5000e+01 2.3400e+02 2.3900e+02 1.0700e+02 3.6000e+02 3.0000e+02\n",
      " 1.8200e+02 9.8000e+01 1.0900e+02 1.9300e+02 2.0900e+02 1.5400e+02\n",
      " 1.4400e+02 2.2200e+02 1.7400e+02 1.5700e+02 1.3600e+02 2.4600e+02\n",
      " 1.5000e+02 1.9500e+02 1.6500e+02 1.1500e+02 3.3800e+02 6.2300e+02\n",
      " 2.8400e+02 2.0200e+02 4.1500e+02 4.3000e+01 1.2600e+02 4.2000e+02\n",
      " 2.2500e+02 1.8400e+02 7.8000e+01 6.5000e+01 5.0000e+01 6.7000e+01\n",
      " 1.5800e+02 6.5000e+02 3.3300e+02 1.1200e+03 7.2900e+02 1.0160e+03\n",
      " 8.3000e+01 5.1400e+02 2.0600e+02 3.5000e+02 3.2400e+02 7.5000e+02\n",
      " 2.5200e+02 2.7200e+02 2.4500e+02 2.0700e+02 2.0800e+02 2.1300e+02\n",
      " 2.9800e+02 1.7300e+02 1.3200e+02 1.7800e+02 1.3700e+02 1.8900e+02\n",
      " 2.4200e+02 2.5500e+02 2.1900e+02 1.9900e+02 3.2600e+02 1.5900e+02\n",
      " 2.6500e+02 4.4300e+02 1.1200e+02 1.9600e+02 1.4100e+02 4.5000e+01\n",
      " 4.3500e+02 1.7200e+02 1.2800e+02 1.7700e+02 1.4300e+02 2.8500e+02\n",
      " 6.8800e+02 1.1900e+02 1.2100e+02 4.3800e+02 4.6300e+02 1.5600e+02\n",
      " 2.9300e+02 1.5300e+02 3.3600e+02 3.6500e+02 3.4600e+02 3.7000e+02\n",
      " 1.2640e+03 3.5500e+02 2.8200e+02 3.3500e+02 2.7900e+02 2.9000e+02\n",
      " 3.0400e+02 5.0000e+02 2.4900e+02 3.0900e+02 4.5000e+02 5.4000e+02\n",
      " 5.3500e+02 5.7700e+02 1.8300e+02 2.0400e+02 2.2600e+02 2.0100e+02\n",
      " 2.6700e+02 7.1000e+01 6.4000e+01 9.6000e+01 2.3700e+02 2.7400e+02\n",
      " 2.7100e+02 1.4200e+02 3.0200e+02 1.6900e+02 2.3800e+02 6.7000e+02\n",
      " 1.9100e+02 4.1800e+02 1.6300e+02 1.2700e+02 1.9400e+02 3.3000e+02\n",
      " 4.3900e+02 2.2100e+02 2.3300e+02 2.3100e+02 8.2000e+01 1.3100e+02\n",
      " 1.4900e+02 2.7000e+01 2.2300e+02 2.7600e+02 1.6200e+02 3.4800e+02\n",
      " 2.3500e+02 6.3400e+02 1.2300e+02 1.3500e+03 2.7300e+02 9.3000e+01\n",
      " 2.4700e+02 2.1700e+02 4.2600e+02 8.8000e+01 1.1300e+02 6.3000e+01\n",
      " 3.0100e+02 1.1400e+02 3.1000e+02 1.2400e+02 2.1400e+02 4.6000e+02\n",
      " 1.0770e+03 2.8000e+02 2.2800e+02 8.6000e+01 2.3600e+02 1.5000e+01\n",
      " 7.9000e+01 3.3900e+02 2.4800e+02 2.1100e+02 4.5200e+02 2.8700e+02\n",
      " 3.0600e+02 2.4400e+02 4.8800e+02 1.3300e+02 1.3800e+02 1.9200e+02\n",
      " 1.0100e+02 2.6800e+02 2.1800e+02 4.9000e+02 4.2300e+02 6.1000e+01\n",
      " 2.9700e+02 4.4500e+02 3.8200e+02 4.9000e+01 4.3700e+02 3.4400e+02\n",
      " 5.8000e+01 6.8000e+01 7.0000e+02 6.0000e+02 2.7500e+02 2.2700e+02\n",
      " 7.3000e+01 1.1100e+02 3.1500e+02 4.0400e+02 4.1400e+02 4.4800e+02\n",
      " 3.8500e+02 3.4000e+01 9.7000e+01 5.0600e+02 3.8000e+02 6.8900e+02\n",
      " 4.8300e+02 5.0100e+02 1.1730e+03 5.5000e+02 3.0500e+02 2.6600e+02\n",
      " 4.8000e+02 4.6900e+02 2.9200e+02 3.8000e+01 7.4000e+01 2.8800e+02\n",
      " 3.7800e+02 2.9500e+02 1.9800e+02 4.5100e+02 3.8100e+02 1.9700e+02\n",
      " 6.4200e+02 3.3100e+02 2.6200e+02 2.7800e+02 1.2900e+02 2.5900e+02\n",
      " 5.5000e+01 3.1900e+02 4.0000e+01 1.6000e+01 7.7000e+01 2.4300e+02\n",
      " 5.2900e+02 2.4100e+02 4.8500e+02 6.1000e+02 3.6100e+02 2.2400e+02\n",
      " 5.2300e+02 5.0200e+02 4.1000e+01 9.2000e+01 3.7700e+02 8.0000e+02\n",
      " 2.5700e+02 3.6600e+02 3.2800e+02 3.8700e+02 1.5000e+03 3.6900e+02\n",
      " 2.9000e+01 3.2000e+01 3.1700e+02 5.1300e+02 4.0000e+02 3.1400e+02\n",
      " 2.9900e+02 5.0500e+02 4.4000e+02 8.2500e+02 4.7000e+01 2.8300e+02\n",
      " 2.8900e+02 3.3400e+02 4.3300e+02 4.6000e+01 3.4200e+02 6.9000e+01\n",
      " 1.1370e+03 8.5000e+02 3.6300e+02 3.8400e+02 7.2000e+02 7.8200e+02\n",
      " 5.1500e+02 1.1910e+03 6.1700e+02 3.2200e+02 3.1300e+02 5.6600e+02\n",
      " 2.6300e+02 2.6100e+02 2.6400e+02 3.4700e+02 4.3000e+02 3.2700e+02\n",
      " 4.2000e+01 2.6900e+02 5.2500e+02 5.3000e+01 3.4000e+02 2.9400e+02\n",
      " 1.0210e+03 3.0700e+02 3.5400e+02 4.4900e+02 4.5500e+02 4.2500e+02\n",
      " 3.9400e+02 3.2500e+02 3.5800e+02 7.7500e+02 4.4700e+02 5.8800e+02\n",
      " 4.9500e+02 4.2400e+02 4.9900e+02 3.7200e+02 4.6800e+02 5.7000e+02\n",
      " 3.4300e+02 3.5300e+02 4.9700e+02 3.9000e+02 2.9600e+02 4.2200e+02\n",
      " 5.3400e+02 3.9800e+02 3.1600e+02 6.7100e+02 5.3800e+02 4.4400e+02\n",
      " 3.4900e+02 3.2100e+02 2.5600e+02 4.1900e+02 9.5000e+02 1.0440e+03\n",
      " 9.0000e+02 2.0000e+01 2.1000e+01 3.3000e+01 3.7000e+01 6.9300e+02\n",
      " 7.1000e+02 5.9000e+01 3.9700e+02 5.6800e+02 3.1200e+02 3.8300e+02\n",
      " 4.6400e+02 5.2000e+02 7.1900e+02 5.2400e+02 5.4800e+02 3.7100e+02\n",
      " 6.3500e+02 4.6500e+02 3.5600e+02 5.6700e+02 3.5000e+01 3.9500e+02\n",
      " 4.8000e+01 5.1000e+01 5.1900e+02 5.0900e+02 6.0800e+02 7.6400e+02\n",
      " 2.7700e+02 4.7500e+02 5.6000e+02 3.9900e+02 5.0700e+02 4.7000e+02\n",
      " 3.5200e+02 3.7300e+02 2.5000e+01 3.6700e+02 3.3200e+02 4.9200e+02\n",
      " 7.4500e+02 6.1400e+02 5.7100e+02 3.7900e+02 4.6200e+02 4.5600e+02\n",
      " 5.5200e+02 4.5900e+02 3.7400e+02 3.6400e+02 6.6900e+02 4.1700e+02\n",
      " 4.2100e+02 3.8900e+02 8.7900e+02 9.4200e+02 5.2000e+01 4.2800e+02\n",
      " 3.1000e+01 1.0050e+03 4.1200e+02 6.0300e+02 4.6700e+02 4.0300e+02\n",
      " 7.5800e+02 6.1300e+02 5.8000e+02 3.5340e+03 6.9100e+02 1.0000e+03\n",
      " 4.0200e+02 3.0300e+02 6.4900e+02 6.5400e+02 3.8600e+02 9.4600e+02\n",
      " 3.1800e+02 3.2300e+02 7.1500e+02 3.5100e+02 5.3000e+02 4.0100e+02\n",
      " 5.1000e+02 5.6500e+02 5.5700e+02 1.1000e+03 9.5700e+02 1.0530e+03\n",
      " 5.9000e+02 5.3900e+02 3.9300e+02 6.3000e+02 2.4000e+01 7.8300e+02\n",
      " 4.7400e+02 6.4000e+02 6.8000e+02 3.5900e+02 4.1000e+02 4.5800e+02\n",
      " 4.3600e+02 9.0800e+02 4.5400e+02 8.1100e+02 5.8900e+02 7.3700e+02\n",
      " 8.8400e+02 1.4000e+01 5.9400e+02 5.1100e+02 3.0800e+02 5.8200e+02\n",
      " 3.9100e+02 1.1070e+03 7.0600e+02 1.1900e+03 1.1650e+03 7.8000e+02\n",
      " 7.6300e+02 5.4900e+02 1.0380e+03 5.1600e+02 6.9600e+02 6.3600e+02\n",
      " 5.3300e+02 6.7500e+02 4.2900e+02 8.5600e+02 6.6000e+02 7.2800e+02\n",
      " 6.9000e+02 6.8400e+02 3.6800e+02 5.7500e+02 3.2900e+02 7.3900e+02\n",
      " 4.0800e+02 5.4200e+02 5.4700e+02 6.8500e+02 3.9000e+01 5.4300e+02\n",
      " 4.8600e+02 8.1900e+02 2.3000e+01 8.9000e+02 6.1100e+02 4.8200e+02\n",
      " 4.1300e+02 5.6000e+01 4.1600e+02 6.6300e+02 4.3400e+02 4.3100e+02\n",
      " 1.2250e+03 9.7500e+02 5.3600e+02 3.3700e+02 7.0300e+02 8.8600e+02\n",
      " 8.8700e+02 5.9500e+02 4.7800e+02 4.2700e+02 7.0800e+02 4.4200e+02\n",
      " 5.4400e+02 6.4700e+02 7.2400e+02 5.6300e+02 1.2000e+03 1.2900e+03\n",
      " 5.8500e+02 8.4500e+02 7.3200e+02 8.7970e+03 2.1820e+03 4.5300e+02\n",
      " 4.1100e+02 4.0900e+02 6.3100e+02 3.0000e+01 5.5600e+02 5.2800e+02\n",
      " 3.7600e+02 8.3000e+02 5.6100e+02 5.5800e+02 1.0540e+03 9.7000e+02\n",
      " 1.1300e+03 4.8400e+02 9.9400e+02 8.7200e+02 3.6200e+02 4.8900e+02\n",
      " 8.2000e+02 4.9600e+02 5.6900e+02 8.6500e+02 5.8300e+02 4.8700e+02\n",
      " 7.8500e+02 1.4250e+03 6.1600e+02 8.1200e+02 6.0700e+02 5.7200e+02\n",
      " 5.6200e+02 6.9900e+02 9.6100e+02 9.4500e+02 4.7100e+02 1.2650e+03\n",
      " 2.6000e+01 8.8500e+02 5.5400e+02 1.7520e+03 1.1000e+04 5.3700e+02\n",
      " 6.2000e+02 4.7200e+02 5.0800e+02 1.7000e+01 1.1000e+01 1.9550e+03\n",
      " 9.6000e+02 1.3750e+03 9.4000e+02 1.3420e+03 8.2200e+02 6.2500e+02\n",
      " 6.2600e+02 6.7600e+02 5.5900e+02 1.6170e+03 8.2400e+02 7.8800e+02\n",
      " 5.8400e+02 1.1450e+03 5.4500e+02 6.3700e+02 4.3200e+02 7.1700e+02\n",
      " 4.7300e+02 1.5600e+03 4.4600e+02 1.1520e+03 1.0400e+03 3.5130e+03\n",
      " 1.9500e+03 6.9500e+02 8.6800e+02 7.1200e+02 9.5900e+02 2.6218e+04\n",
      " 9.5800e+02 1.4500e+03 7.2500e+02 5.5500e+02 5.7400e+02 6.3200e+02\n",
      " 7.3000e+02 6.5500e+02 2.0630e+04 5.5300e+02 2.5670e+03 5.5100e+02\n",
      " 1.2300e+03 5.7300e+02 6.6400e+02 3.5700e+02 6.3800e+02 8.8000e+02\n",
      " 4.5700e+02 1.3730e+03 7.9100e+02 1.4610e+03 1.1570e+03 8.2300e+02\n",
      " 1.3130e+03 3.4100e+03 7.3400e+02 7.5900e+02 1.1210e+03 1.1090e+03\n",
      " 4.0600e+02 9.7400e+02 2.8000e+03 9.8000e+02 8.4800e+02 5.2100e+02]\n"
     ]
    }
   ],
   "source": [
    "analyze_column(df, 'living_area')"
   ]
  },
  {
   "cell_type": "code",
   "execution_count": 313,
   "metadata": {},
   "outputs": [
    {
     "data": {
      "text/html": [
       "<div>\n",
       "<style scoped>\n",
       "    .dataframe tbody tr th:only-of-type {\n",
       "        vertical-align: middle;\n",
       "    }\n",
       "\n",
       "    .dataframe tbody tr th {\n",
       "        vertical-align: top;\n",
       "    }\n",
       "\n",
       "    .dataframe thead th {\n",
       "        text-align: right;\n",
       "    }\n",
       "</style>\n",
       "<table border=\"1\" class=\"dataframe\">\n",
       "  <thead>\n",
       "    <tr style=\"text-align: right;\">\n",
       "      <th></th>\n",
       "      <th>locality</th>\n",
       "      <th>property_type</th>\n",
       "      <th>property_subtype</th>\n",
       "      <th>price</th>\n",
       "      <th>number_rooms</th>\n",
       "      <th>living_area</th>\n",
       "      <th>kitchen</th>\n",
       "      <th>furnished</th>\n",
       "      <th>fireplace</th>\n",
       "      <th>terrace</th>\n",
       "      <th>terrace_area</th>\n",
       "      <th>garden</th>\n",
       "      <th>garden_area</th>\n",
       "      <th>surface_land</th>\n",
       "      <th>number_facades</th>\n",
       "      <th>swimming_pool</th>\n",
       "      <th>building_state</th>\n",
       "    </tr>\n",
       "  </thead>\n",
       "  <tbody>\n",
       "    <tr>\n",
       "      <th>43</th>\n",
       "      <td>Maldegem</td>\n",
       "      <td>HOUSE</td>\n",
       "      <td>HOUSE</td>\n",
       "      <td>270000.0</td>\n",
       "      <td>4.0</td>\n",
       "      <td>NaN</td>\n",
       "      <td>NaN</td>\n",
       "      <td>NaN</td>\n",
       "      <td>NaN</td>\n",
       "      <td>NaN</td>\n",
       "      <td>NaN</td>\n",
       "      <td>NaN</td>\n",
       "      <td>NaN</td>\n",
       "      <td>755</td>\n",
       "      <td>NaN</td>\n",
       "      <td>False</td>\n",
       "      <td>TO_RENOVATE</td>\n",
       "    </tr>\n",
       "    <tr>\n",
       "      <th>46</th>\n",
       "      <td>Lichtervelde</td>\n",
       "      <td>HOUSE</td>\n",
       "      <td>HOUSE</td>\n",
       "      <td>225000.0</td>\n",
       "      <td>4.0</td>\n",
       "      <td>NaN</td>\n",
       "      <td>0</td>\n",
       "      <td>False</td>\n",
       "      <td>NaN</td>\n",
       "      <td>True</td>\n",
       "      <td>NaN</td>\n",
       "      <td>True</td>\n",
       "      <td>NaN</td>\n",
       "      <td>190</td>\n",
       "      <td>NaN</td>\n",
       "      <td>False</td>\n",
       "      <td>TO_RENOVATE</td>\n",
       "    </tr>\n",
       "    <tr>\n",
       "      <th>55</th>\n",
       "      <td>Tisselt</td>\n",
       "      <td>APARTMENT</td>\n",
       "      <td>APARTMENT</td>\n",
       "      <td>185000.0</td>\n",
       "      <td>1.0</td>\n",
       "      <td>NaN</td>\n",
       "      <td>INSTALLED</td>\n",
       "      <td>False</td>\n",
       "      <td>NaN</td>\n",
       "      <td>True</td>\n",
       "      <td>26.0</td>\n",
       "      <td>True</td>\n",
       "      <td>NaN</td>\n",
       "      <td>NaN</td>\n",
       "      <td>2</td>\n",
       "      <td>False</td>\n",
       "      <td>GOOD</td>\n",
       "    </tr>\n",
       "    <tr>\n",
       "      <th>91</th>\n",
       "      <td>Brugge</td>\n",
       "      <td>APARTMENT</td>\n",
       "      <td>APARTMENT</td>\n",
       "      <td>273900.0</td>\n",
       "      <td>2.0</td>\n",
       "      <td>NaN</td>\n",
       "      <td>0</td>\n",
       "      <td>NaN</td>\n",
       "      <td>NaN</td>\n",
       "      <td>True</td>\n",
       "      <td>NaN</td>\n",
       "      <td>NaN</td>\n",
       "      <td>NaN</td>\n",
       "      <td>UNKNOWN</td>\n",
       "      <td>UNKNOWN</td>\n",
       "      <td>NaN</td>\n",
       "      <td>UNKNOWN</td>\n",
       "    </tr>\n",
       "    <tr>\n",
       "      <th>93</th>\n",
       "      <td>Wetteren</td>\n",
       "      <td>HOUSE</td>\n",
       "      <td>HOUSE</td>\n",
       "      <td>323500.0</td>\n",
       "      <td>4.0</td>\n",
       "      <td>NaN</td>\n",
       "      <td>0</td>\n",
       "      <td>NaN</td>\n",
       "      <td>NaN</td>\n",
       "      <td>NaN</td>\n",
       "      <td>NaN</td>\n",
       "      <td>NaN</td>\n",
       "      <td>NaN</td>\n",
       "      <td>160</td>\n",
       "      <td>2</td>\n",
       "      <td>NaN</td>\n",
       "      <td>NaN</td>\n",
       "    </tr>\n",
       "    <tr>\n",
       "      <th>...</th>\n",
       "      <td>...</td>\n",
       "      <td>...</td>\n",
       "      <td>...</td>\n",
       "      <td>...</td>\n",
       "      <td>...</td>\n",
       "      <td>...</td>\n",
       "      <td>...</td>\n",
       "      <td>...</td>\n",
       "      <td>...</td>\n",
       "      <td>...</td>\n",
       "      <td>...</td>\n",
       "      <td>...</td>\n",
       "      <td>...</td>\n",
       "      <td>...</td>\n",
       "      <td>...</td>\n",
       "      <td>...</td>\n",
       "      <td>...</td>\n",
       "    </tr>\n",
       "    <tr>\n",
       "      <th>19435</th>\n",
       "      <td>Grivegnée</td>\n",
       "      <td>APARTMENT</td>\n",
       "      <td>APARTMENT</td>\n",
       "      <td>145000.0</td>\n",
       "      <td>1.0</td>\n",
       "      <td>NaN</td>\n",
       "      <td>INSTALLED</td>\n",
       "      <td>NaN</td>\n",
       "      <td>-1.0</td>\n",
       "      <td>True</td>\n",
       "      <td>5.0</td>\n",
       "      <td>NaN</td>\n",
       "      <td>NaN</td>\n",
       "      <td>UNKNOWN</td>\n",
       "      <td>2</td>\n",
       "      <td>NaN</td>\n",
       "      <td>NaN</td>\n",
       "    </tr>\n",
       "    <tr>\n",
       "      <th>19438</th>\n",
       "      <td>Beyne-Heusay</td>\n",
       "      <td>HOUSE</td>\n",
       "      <td>EXCEPTIONAL_PROPERTY</td>\n",
       "      <td>745000.0</td>\n",
       "      <td>3.0</td>\n",
       "      <td>NaN</td>\n",
       "      <td>INSTALLED</td>\n",
       "      <td>False</td>\n",
       "      <td>NaN</td>\n",
       "      <td>True</td>\n",
       "      <td>17.0</td>\n",
       "      <td>True</td>\n",
       "      <td>174.0</td>\n",
       "      <td>10566</td>\n",
       "      <td>4</td>\n",
       "      <td>False</td>\n",
       "      <td>GOOD</td>\n",
       "    </tr>\n",
       "    <tr>\n",
       "      <th>19480</th>\n",
       "      <td>Waasmunster</td>\n",
       "      <td>HOUSE</td>\n",
       "      <td>HOUSE</td>\n",
       "      <td>549000.0</td>\n",
       "      <td>5.0</td>\n",
       "      <td>NaN</td>\n",
       "      <td>0</td>\n",
       "      <td>NaN</td>\n",
       "      <td>NaN</td>\n",
       "      <td>NaN</td>\n",
       "      <td>NaN</td>\n",
       "      <td>True</td>\n",
       "      <td>NaN</td>\n",
       "      <td>0</td>\n",
       "      <td>NaN</td>\n",
       "      <td>False</td>\n",
       "      <td>AS_NEW</td>\n",
       "    </tr>\n",
       "    <tr>\n",
       "      <th>19493</th>\n",
       "      <td>Molenbeek-Saint-Jean</td>\n",
       "      <td>HOUSE</td>\n",
       "      <td>EXCEPTIONAL_PROPERTY</td>\n",
       "      <td>369000.0</td>\n",
       "      <td>5.0</td>\n",
       "      <td>NaN</td>\n",
       "      <td>INSTALLED</td>\n",
       "      <td>False</td>\n",
       "      <td>NaN</td>\n",
       "      <td>NaN</td>\n",
       "      <td>NaN</td>\n",
       "      <td>NaN</td>\n",
       "      <td>NaN</td>\n",
       "      <td>0</td>\n",
       "      <td>2</td>\n",
       "      <td>False</td>\n",
       "      <td>GOOD</td>\n",
       "    </tr>\n",
       "    <tr>\n",
       "      <th>19494</th>\n",
       "      <td>Brecht</td>\n",
       "      <td>HOUSE</td>\n",
       "      <td>HOUSE</td>\n",
       "      <td>375000.0</td>\n",
       "      <td>3.0</td>\n",
       "      <td>NaN</td>\n",
       "      <td>INSTALLED</td>\n",
       "      <td>False</td>\n",
       "      <td>NaN</td>\n",
       "      <td>NaN</td>\n",
       "      <td>NaN</td>\n",
       "      <td>True</td>\n",
       "      <td>245.0</td>\n",
       "      <td>712</td>\n",
       "      <td>4</td>\n",
       "      <td>False</td>\n",
       "      <td>GOOD</td>\n",
       "    </tr>\n",
       "  </tbody>\n",
       "</table>\n",
       "<p>1054 rows × 17 columns</p>\n",
       "</div>"
      ],
      "text/plain": [
       "                   locality property_type      property_subtype     price  \\\n",
       "43                 Maldegem         HOUSE                 HOUSE  270000.0   \n",
       "46             Lichtervelde         HOUSE                 HOUSE  225000.0   \n",
       "55                  Tisselt     APARTMENT             APARTMENT  185000.0   \n",
       "91                   Brugge     APARTMENT             APARTMENT  273900.0   \n",
       "93                 Wetteren         HOUSE                 HOUSE  323500.0   \n",
       "...                     ...           ...                   ...       ...   \n",
       "19435             Grivegnée     APARTMENT             APARTMENT  145000.0   \n",
       "19438          Beyne-Heusay         HOUSE  EXCEPTIONAL_PROPERTY  745000.0   \n",
       "19480           Waasmunster         HOUSE                 HOUSE  549000.0   \n",
       "19493  Molenbeek-Saint-Jean         HOUSE  EXCEPTIONAL_PROPERTY  369000.0   \n",
       "19494                Brecht         HOUSE                 HOUSE  375000.0   \n",
       "\n",
       "       number_rooms  living_area    kitchen furnished  fireplace terrace  \\\n",
       "43              4.0          NaN        NaN       NaN        NaN     NaN   \n",
       "46              4.0          NaN          0     False        NaN    True   \n",
       "55              1.0          NaN  INSTALLED     False        NaN    True   \n",
       "91              2.0          NaN          0       NaN        NaN    True   \n",
       "93              4.0          NaN          0       NaN        NaN     NaN   \n",
       "...             ...          ...        ...       ...        ...     ...   \n",
       "19435           1.0          NaN  INSTALLED       NaN       -1.0    True   \n",
       "19438           3.0          NaN  INSTALLED     False        NaN    True   \n",
       "19480           5.0          NaN          0       NaN        NaN     NaN   \n",
       "19493           5.0          NaN  INSTALLED     False        NaN     NaN   \n",
       "19494           3.0          NaN  INSTALLED     False        NaN     NaN   \n",
       "\n",
       "       terrace_area garden  garden_area surface_land number_facades  \\\n",
       "43              NaN    NaN          NaN          755            NaN   \n",
       "46              NaN   True          NaN          190            NaN   \n",
       "55             26.0   True          NaN          NaN              2   \n",
       "91              NaN    NaN          NaN      UNKNOWN        UNKNOWN   \n",
       "93              NaN    NaN          NaN          160              2   \n",
       "...             ...    ...          ...          ...            ...   \n",
       "19435           5.0    NaN          NaN      UNKNOWN              2   \n",
       "19438          17.0   True        174.0        10566              4   \n",
       "19480           NaN   True          NaN            0            NaN   \n",
       "19493           NaN    NaN          NaN            0              2   \n",
       "19494           NaN   True        245.0          712              4   \n",
       "\n",
       "      swimming_pool building_state  \n",
       "43            False    TO_RENOVATE  \n",
       "46            False    TO_RENOVATE  \n",
       "55            False           GOOD  \n",
       "91              NaN        UNKNOWN  \n",
       "93              NaN            NaN  \n",
       "...             ...            ...  \n",
       "19435           NaN            NaN  \n",
       "19438         False           GOOD  \n",
       "19480         False         AS_NEW  \n",
       "19493         False           GOOD  \n",
       "19494         False           GOOD  \n",
       "\n",
       "[1054 rows x 17 columns]"
      ]
     },
     "execution_count": 313,
     "metadata": {},
     "output_type": "execute_result"
    }
   ],
   "source": [
    "# Theres quite a bit of Nan Values (5.41%)- checking these out \n",
    "#(we could backfill the NaN values with the mean of the Living_ area per property_subtype)\n",
    "df[df['living_area'].isna()]"
   ]
  },
  {
   "cell_type": "code",
   "execution_count": 314,
   "metadata": {},
   "outputs": [
    {
     "data": {
      "text/plain": [
       "0        289.694260\n",
       "1        195.894535\n",
       "2        195.894535\n",
       "3        195.894535\n",
       "4        195.894535\n",
       "            ...    \n",
       "19494    195.894535\n",
       "19495     99.713227\n",
       "19496    195.894535\n",
       "19497    195.894535\n",
       "19498     99.713227\n",
       "Name: living_area, Length: 19499, dtype: float64"
      ]
     },
     "execution_count": 314,
     "metadata": {},
     "output_type": "execute_result"
    }
   ],
   "source": [
    "# backfill the NaN values with the mean of the Living_area per property_subtype\n",
    "mean_living_area = df.groupby('property_subtype')['living_area'].transform('mean')\n",
    "#  Transform function is used to calculate the mean living area for each property subtype.\n",
    "mean_living_area"
   ]
  },
  {
   "cell_type": "code",
   "execution_count": 319,
   "metadata": {},
   "outputs": [],
   "source": [
    "filled_nan_living_area = df.groupby('property_subtype')['living_area'].fillna(mean_living_area)\n",
    "df['living_area'] = filled_nan_living_area"
   ]
  },
  {
   "cell_type": "code",
   "execution_count": 320,
   "metadata": {},
   "outputs": [
    {
     "data": {
      "text/html": [
       "<div>\n",
       "<style scoped>\n",
       "    .dataframe tbody tr th:only-of-type {\n",
       "        vertical-align: middle;\n",
       "    }\n",
       "\n",
       "    .dataframe tbody tr th {\n",
       "        vertical-align: top;\n",
       "    }\n",
       "\n",
       "    .dataframe thead th {\n",
       "        text-align: right;\n",
       "    }\n",
       "</style>\n",
       "<table border=\"1\" class=\"dataframe\">\n",
       "  <thead>\n",
       "    <tr style=\"text-align: right;\">\n",
       "      <th></th>\n",
       "      <th>locality</th>\n",
       "      <th>property_type</th>\n",
       "      <th>property_subtype</th>\n",
       "      <th>price</th>\n",
       "      <th>number_rooms</th>\n",
       "      <th>living_area</th>\n",
       "      <th>kitchen</th>\n",
       "      <th>furnished</th>\n",
       "      <th>fireplace</th>\n",
       "      <th>terrace</th>\n",
       "      <th>terrace_area</th>\n",
       "      <th>garden</th>\n",
       "      <th>garden_area</th>\n",
       "      <th>surface_land</th>\n",
       "      <th>number_facades</th>\n",
       "      <th>swimming_pool</th>\n",
       "      <th>building_state</th>\n",
       "    </tr>\n",
       "  </thead>\n",
       "  <tbody>\n",
       "  </tbody>\n",
       "</table>\n",
       "</div>"
      ],
      "text/plain": [
       "Empty DataFrame\n",
       "Columns: [locality, property_type, property_subtype, price, number_rooms, living_area, kitchen, furnished, fireplace, terrace, terrace_area, garden, garden_area, surface_land, number_facades, swimming_pool, building_state]\n",
       "Index: []"
      ]
     },
     "execution_count": 320,
     "metadata": {},
     "output_type": "execute_result"
    }
   ],
   "source": [
    "df[df['living_area'].isna()]"
   ]
  },
  {
   "cell_type": "code",
   "execution_count": null,
   "metadata": {},
   "outputs": [],
   "source": []
  },
  {
   "attachments": {},
   "cell_type": "markdown",
   "metadata": {},
   "source": [
    "### 6. Kitchen"
   ]
  },
  {
   "attachments": {},
   "cell_type": "markdown",
   "metadata": {},
   "source": []
  },
  {
   "cell_type": "code",
   "execution_count": null,
   "metadata": {},
   "outputs": [],
   "source": []
  },
  {
   "attachments": {},
   "cell_type": "markdown",
   "metadata": {},
   "source": [
    "### 7. Furnished"
   ]
  },
  {
   "attachments": {},
   "cell_type": "markdown",
   "metadata": {},
   "source": [
    "### 8. Fireplace"
   ]
  },
  {
   "attachments": {},
   "cell_type": "markdown",
   "metadata": {},
   "source": [
    "### 9. Terrace"
   ]
  },
  {
   "attachments": {},
   "cell_type": "markdown",
   "metadata": {},
   "source": [
    "### 10. Terrace Area"
   ]
  },
  {
   "attachments": {},
   "cell_type": "markdown",
   "metadata": {},
   "source": [
    "### 11. Garden"
   ]
  },
  {
   "attachments": {},
   "cell_type": "markdown",
   "metadata": {},
   "source": [
    "### 12. Garden Area"
   ]
  },
  {
   "attachments": {},
   "cell_type": "markdown",
   "metadata": {},
   "source": [
    "### 13. Surface of the Land"
   ]
  },
  {
   "attachments": {},
   "cell_type": "markdown",
   "metadata": {},
   "source": [
    "### 14. Number of Facades"
   ]
  },
  {
   "attachments": {},
   "cell_type": "markdown",
   "metadata": {},
   "source": [
    "### 15. Swimming Pool"
   ]
  },
  {
   "attachments": {},
   "cell_type": "markdown",
   "metadata": {},
   "source": [
    "### 16. Building State"
   ]
  },
  {
   "cell_type": "code",
   "execution_count": null,
   "metadata": {},
   "outputs": [],
   "source": []
  }
 ],
 "metadata": {
  "kernelspec": {
   "display_name": "Python 3",
   "language": "python",
   "name": "python3"
  },
  "language_info": {
   "codemirror_mode": {
    "name": "ipython",
    "version": 3
   },
   "file_extension": ".py",
   "mimetype": "text/x-python",
   "name": "python",
   "nbconvert_exporter": "python",
   "pygments_lexer": "ipython3",
   "version": "3.11.2"
  },
  "orig_nbformat": 4
 },
 "nbformat": 4,
 "nbformat_minor": 2
}
